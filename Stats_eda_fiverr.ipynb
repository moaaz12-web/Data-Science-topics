{
  "nbformat": 4,
  "nbformat_minor": 0,
  "metadata": {
    "colab": {
      "provenance": [],
      "collapsed_sections": [
        "BHBedrH7SONi",
        "rk1rcCNpSbON",
        "l4EKW1TDVOqj"
      ]
    },
    "kernelspec": {
      "name": "python3",
      "display_name": "Python 3"
    },
    "language_info": {
      "name": "python"
    }
  },
  "cells": [
    {
      "cell_type": "code",
      "execution_count": null,
      "metadata": {
        "id": "RfhDGVn0HF8p"
      },
      "outputs": [],
      "source": [
        "! unzip \"/content/drive/MyDrive/anantthhh-attachments.zip\""
      ]
    },
    {
      "cell_type": "markdown",
      "source": [
        "# IMPORT LIBRARIES"
      ],
      "metadata": {
        "id": "BHBedrH7SONi"
      }
    },
    {
      "cell_type": "code",
      "source": [
        "import pandas as pd\n",
        "import numpy as np\n",
        "import matplotlib.pyplot as plt\n",
        "import seaborn as sns"
      ],
      "metadata": {
        "id": "n3U8aR0_HmHO"
      },
      "execution_count": null,
      "outputs": []
    },
    {
      "cell_type": "markdown",
      "source": [
        "# PROBLEM 1\n",
        "\n",
        "The Student News Service at Clear Mountain State University (CMSU) has decided to gather data\n",
        "about the undergraduate students that attend CMSU. CMSU creates and distributes a survey of 14\n",
        "questions and receives responses from 62 undergraduates (stored in the Survey data set).\n",
        "\n",
        "1.1. For this data, construct the following contingency tables (Keep Gender as row variable)\n",
        "\n",
        "1.1.1. Gender and Major\n",
        "\n",
        "1.1.2. Gender and Grad Intention\n",
        "\n",
        "1.1.3. Gender and Employment\n",
        "\n",
        "1.1.4. Gender and Computer"
      ],
      "metadata": {
        "id": "rk1rcCNpSbON"
      }
    },
    {
      "cell_type": "code",
      "source": [
        "survey = pd.read_csv(\"/content/Survey-1.csv\")"
      ],
      "metadata": {
        "id": "Y1IiDf9TVdzw"
      },
      "execution_count": null,
      "outputs": []
    },
    {
      "cell_type": "code",
      "source": [
        "contingency_table_major = pd.crosstab(survey['Gender'], survey['Major'])\n",
        "contingency_table_major\n"
      ],
      "metadata": {
        "id": "i9a_U6alH6ip",
        "colab": {
          "base_uri": "https://localhost:8080/"
        },
        "outputId": "7437182f-5afc-405d-cdf1-991473800bee"
      },
      "execution_count": null,
      "outputs": [
        {
          "output_type": "execute_result",
          "data": {
            "text/plain": [
              "Major   Accounting  CIS  Economics/Finance  International Business  \\\n",
              "Gender                                                               \n",
              "Female           3    3                  7                       4   \n",
              "Male             4    1                  4                       2   \n",
              "\n",
              "Major   Management  Other  Retailing/Marketing  Undecided  \n",
              "Gender                                                     \n",
              "Female           4      3                    9          0  \n",
              "Male             6      4                    5          3  "
            ],
            "text/html": [
              "\n",
              "\n",
              "  <div id=\"df-7ccca1e1-1b80-4d88-984c-d49d8bbe39f7\">\n",
              "    <div class=\"colab-df-container\">\n",
              "      <div>\n",
              "<style scoped>\n",
              "    .dataframe tbody tr th:only-of-type {\n",
              "        vertical-align: middle;\n",
              "    }\n",
              "\n",
              "    .dataframe tbody tr th {\n",
              "        vertical-align: top;\n",
              "    }\n",
              "\n",
              "    .dataframe thead th {\n",
              "        text-align: right;\n",
              "    }\n",
              "</style>\n",
              "<table border=\"1\" class=\"dataframe\">\n",
              "  <thead>\n",
              "    <tr style=\"text-align: right;\">\n",
              "      <th>Major</th>\n",
              "      <th>Accounting</th>\n",
              "      <th>CIS</th>\n",
              "      <th>Economics/Finance</th>\n",
              "      <th>International Business</th>\n",
              "      <th>Management</th>\n",
              "      <th>Other</th>\n",
              "      <th>Retailing/Marketing</th>\n",
              "      <th>Undecided</th>\n",
              "    </tr>\n",
              "    <tr>\n",
              "      <th>Gender</th>\n",
              "      <th></th>\n",
              "      <th></th>\n",
              "      <th></th>\n",
              "      <th></th>\n",
              "      <th></th>\n",
              "      <th></th>\n",
              "      <th></th>\n",
              "      <th></th>\n",
              "    </tr>\n",
              "  </thead>\n",
              "  <tbody>\n",
              "    <tr>\n",
              "      <th>Female</th>\n",
              "      <td>3</td>\n",
              "      <td>3</td>\n",
              "      <td>7</td>\n",
              "      <td>4</td>\n",
              "      <td>4</td>\n",
              "      <td>3</td>\n",
              "      <td>9</td>\n",
              "      <td>0</td>\n",
              "    </tr>\n",
              "    <tr>\n",
              "      <th>Male</th>\n",
              "      <td>4</td>\n",
              "      <td>1</td>\n",
              "      <td>4</td>\n",
              "      <td>2</td>\n",
              "      <td>6</td>\n",
              "      <td>4</td>\n",
              "      <td>5</td>\n",
              "      <td>3</td>\n",
              "    </tr>\n",
              "  </tbody>\n",
              "</table>\n",
              "</div>\n",
              "      <button class=\"colab-df-convert\" onclick=\"convertToInteractive('df-7ccca1e1-1b80-4d88-984c-d49d8bbe39f7')\"\n",
              "              title=\"Convert this dataframe to an interactive table.\"\n",
              "              style=\"display:none;\">\n",
              "\n",
              "  <svg xmlns=\"http://www.w3.org/2000/svg\" height=\"24px\"viewBox=\"0 0 24 24\"\n",
              "       width=\"24px\">\n",
              "    <path d=\"M0 0h24v24H0V0z\" fill=\"none\"/>\n",
              "    <path d=\"M18.56 5.44l.94 2.06.94-2.06 2.06-.94-2.06-.94-.94-2.06-.94 2.06-2.06.94zm-11 1L8.5 8.5l.94-2.06 2.06-.94-2.06-.94L8.5 2.5l-.94 2.06-2.06.94zm10 10l.94 2.06.94-2.06 2.06-.94-2.06-.94-.94-2.06-.94 2.06-2.06.94z\"/><path d=\"M17.41 7.96l-1.37-1.37c-.4-.4-.92-.59-1.43-.59-.52 0-1.04.2-1.43.59L10.3 9.45l-7.72 7.72c-.78.78-.78 2.05 0 2.83L4 21.41c.39.39.9.59 1.41.59.51 0 1.02-.2 1.41-.59l7.78-7.78 2.81-2.81c.8-.78.8-2.07 0-2.86zM5.41 20L4 18.59l7.72-7.72 1.47 1.35L5.41 20z\"/>\n",
              "  </svg>\n",
              "      </button>\n",
              "\n",
              "\n",
              "\n",
              "    <div id=\"df-d03f4d22-4c65-4bd9-9152-3a442f0d2a81\">\n",
              "      <button class=\"colab-df-quickchart\" onclick=\"quickchart('df-d03f4d22-4c65-4bd9-9152-3a442f0d2a81')\"\n",
              "              title=\"Suggest charts.\"\n",
              "              style=\"display:none;\">\n",
              "\n",
              "<svg xmlns=\"http://www.w3.org/2000/svg\" height=\"24px\"viewBox=\"0 0 24 24\"\n",
              "     width=\"24px\">\n",
              "    <g>\n",
              "        <path d=\"M19 3H5c-1.1 0-2 .9-2 2v14c0 1.1.9 2 2 2h14c1.1 0 2-.9 2-2V5c0-1.1-.9-2-2-2zM9 17H7v-7h2v7zm4 0h-2V7h2v10zm4 0h-2v-4h2v4z\"/>\n",
              "    </g>\n",
              "</svg>\n",
              "      </button>\n",
              "    </div>\n",
              "\n",
              "<style>\n",
              "  .colab-df-quickchart {\n",
              "    background-color: #E8F0FE;\n",
              "    border: none;\n",
              "    border-radius: 50%;\n",
              "    cursor: pointer;\n",
              "    display: none;\n",
              "    fill: #1967D2;\n",
              "    height: 32px;\n",
              "    padding: 0 0 0 0;\n",
              "    width: 32px;\n",
              "  }\n",
              "\n",
              "  .colab-df-quickchart:hover {\n",
              "    background-color: #E2EBFA;\n",
              "    box-shadow: 0px 1px 2px rgba(60, 64, 67, 0.3), 0px 1px 3px 1px rgba(60, 64, 67, 0.15);\n",
              "    fill: #174EA6;\n",
              "  }\n",
              "\n",
              "  [theme=dark] .colab-df-quickchart {\n",
              "    background-color: #3B4455;\n",
              "    fill: #D2E3FC;\n",
              "  }\n",
              "\n",
              "  [theme=dark] .colab-df-quickchart:hover {\n",
              "    background-color: #434B5C;\n",
              "    box-shadow: 0px 1px 3px 1px rgba(0, 0, 0, 0.15);\n",
              "    filter: drop-shadow(0px 1px 2px rgba(0, 0, 0, 0.3));\n",
              "    fill: #FFFFFF;\n",
              "  }\n",
              "</style>\n",
              "\n",
              "    <script>\n",
              "      async function quickchart(key) {\n",
              "        const containerElement = document.querySelector('#' + key);\n",
              "        const charts = await google.colab.kernel.invokeFunction(\n",
              "            'suggestCharts', [key], {});\n",
              "      }\n",
              "    </script>\n",
              "\n",
              "      <script>\n",
              "\n",
              "function displayQuickchartButton(domScope) {\n",
              "  let quickchartButtonEl =\n",
              "    domScope.querySelector('#df-d03f4d22-4c65-4bd9-9152-3a442f0d2a81 button.colab-df-quickchart');\n",
              "  quickchartButtonEl.style.display =\n",
              "    google.colab.kernel.accessAllowed ? 'block' : 'none';\n",
              "}\n",
              "\n",
              "        displayQuickchartButton(document);\n",
              "      </script>\n",
              "      <style>\n",
              "    .colab-df-container {\n",
              "      display:flex;\n",
              "      flex-wrap:wrap;\n",
              "      gap: 12px;\n",
              "    }\n",
              "\n",
              "    .colab-df-convert {\n",
              "      background-color: #E8F0FE;\n",
              "      border: none;\n",
              "      border-radius: 50%;\n",
              "      cursor: pointer;\n",
              "      display: none;\n",
              "      fill: #1967D2;\n",
              "      height: 32px;\n",
              "      padding: 0 0 0 0;\n",
              "      width: 32px;\n",
              "    }\n",
              "\n",
              "    .colab-df-convert:hover {\n",
              "      background-color: #E2EBFA;\n",
              "      box-shadow: 0px 1px 2px rgba(60, 64, 67, 0.3), 0px 1px 3px 1px rgba(60, 64, 67, 0.15);\n",
              "      fill: #174EA6;\n",
              "    }\n",
              "\n",
              "    [theme=dark] .colab-df-convert {\n",
              "      background-color: #3B4455;\n",
              "      fill: #D2E3FC;\n",
              "    }\n",
              "\n",
              "    [theme=dark] .colab-df-convert:hover {\n",
              "      background-color: #434B5C;\n",
              "      box-shadow: 0px 1px 3px 1px rgba(0, 0, 0, 0.15);\n",
              "      filter: drop-shadow(0px 1px 2px rgba(0, 0, 0, 0.3));\n",
              "      fill: #FFFFFF;\n",
              "    }\n",
              "  </style>\n",
              "\n",
              "      <script>\n",
              "        const buttonEl =\n",
              "          document.querySelector('#df-7ccca1e1-1b80-4d88-984c-d49d8bbe39f7 button.colab-df-convert');\n",
              "        buttonEl.style.display =\n",
              "          google.colab.kernel.accessAllowed ? 'block' : 'none';\n",
              "\n",
              "        async function convertToInteractive(key) {\n",
              "          const element = document.querySelector('#df-7ccca1e1-1b80-4d88-984c-d49d8bbe39f7');\n",
              "          const dataTable =\n",
              "            await google.colab.kernel.invokeFunction('convertToInteractive',\n",
              "                                                     [key], {});\n",
              "          if (!dataTable) return;\n",
              "\n",
              "          const docLinkHtml = 'Like what you see? Visit the ' +\n",
              "            '<a target=\"_blank\" href=https://colab.research.google.com/notebooks/data_table.ipynb>data table notebook</a>'\n",
              "            + ' to learn more about interactive tables.';\n",
              "          element.innerHTML = '';\n",
              "          dataTable['output_type'] = 'display_data';\n",
              "          await google.colab.output.renderOutput(dataTable, element);\n",
              "          const docLink = document.createElement('div');\n",
              "          docLink.innerHTML = docLinkHtml;\n",
              "          element.appendChild(docLink);\n",
              "        }\n",
              "      </script>\n",
              "    </div>\n",
              "  </div>\n"
            ]
          },
          "metadata": {},
          "execution_count": 5
        }
      ]
    },
    {
      "cell_type": "code",
      "source": [
        "contingency_table_emp = pd.crosstab(survey['Gender'], survey['Employment'])\n",
        "contingency_table_emp"
      ],
      "metadata": {
        "id": "rd28qCCkH-wr",
        "colab": {
          "base_uri": "https://localhost:8080/"
        },
        "outputId": "4b69fe8c-9898-4142-a13a-db946dd72cb5"
      },
      "execution_count": null,
      "outputs": [
        {
          "output_type": "execute_result",
          "data": {
            "text/plain": [
              "Employment  Full-Time  Part-Time  Unemployed\n",
              "Gender                                      \n",
              "Female              3         24           6\n",
              "Male                7         19           3"
            ],
            "text/html": [
              "\n",
              "\n",
              "  <div id=\"df-d7fd900d-dce4-40ee-a1f3-0d029e52be88\">\n",
              "    <div class=\"colab-df-container\">\n",
              "      <div>\n",
              "<style scoped>\n",
              "    .dataframe tbody tr th:only-of-type {\n",
              "        vertical-align: middle;\n",
              "    }\n",
              "\n",
              "    .dataframe tbody tr th {\n",
              "        vertical-align: top;\n",
              "    }\n",
              "\n",
              "    .dataframe thead th {\n",
              "        text-align: right;\n",
              "    }\n",
              "</style>\n",
              "<table border=\"1\" class=\"dataframe\">\n",
              "  <thead>\n",
              "    <tr style=\"text-align: right;\">\n",
              "      <th>Employment</th>\n",
              "      <th>Full-Time</th>\n",
              "      <th>Part-Time</th>\n",
              "      <th>Unemployed</th>\n",
              "    </tr>\n",
              "    <tr>\n",
              "      <th>Gender</th>\n",
              "      <th></th>\n",
              "      <th></th>\n",
              "      <th></th>\n",
              "    </tr>\n",
              "  </thead>\n",
              "  <tbody>\n",
              "    <tr>\n",
              "      <th>Female</th>\n",
              "      <td>3</td>\n",
              "      <td>24</td>\n",
              "      <td>6</td>\n",
              "    </tr>\n",
              "    <tr>\n",
              "      <th>Male</th>\n",
              "      <td>7</td>\n",
              "      <td>19</td>\n",
              "      <td>3</td>\n",
              "    </tr>\n",
              "  </tbody>\n",
              "</table>\n",
              "</div>\n",
              "      <button class=\"colab-df-convert\" onclick=\"convertToInteractive('df-d7fd900d-dce4-40ee-a1f3-0d029e52be88')\"\n",
              "              title=\"Convert this dataframe to an interactive table.\"\n",
              "              style=\"display:none;\">\n",
              "\n",
              "  <svg xmlns=\"http://www.w3.org/2000/svg\" height=\"24px\"viewBox=\"0 0 24 24\"\n",
              "       width=\"24px\">\n",
              "    <path d=\"M0 0h24v24H0V0z\" fill=\"none\"/>\n",
              "    <path d=\"M18.56 5.44l.94 2.06.94-2.06 2.06-.94-2.06-.94-.94-2.06-.94 2.06-2.06.94zm-11 1L8.5 8.5l.94-2.06 2.06-.94-2.06-.94L8.5 2.5l-.94 2.06-2.06.94zm10 10l.94 2.06.94-2.06 2.06-.94-2.06-.94-.94-2.06-.94 2.06-2.06.94z\"/><path d=\"M17.41 7.96l-1.37-1.37c-.4-.4-.92-.59-1.43-.59-.52 0-1.04.2-1.43.59L10.3 9.45l-7.72 7.72c-.78.78-.78 2.05 0 2.83L4 21.41c.39.39.9.59 1.41.59.51 0 1.02-.2 1.41-.59l7.78-7.78 2.81-2.81c.8-.78.8-2.07 0-2.86zM5.41 20L4 18.59l7.72-7.72 1.47 1.35L5.41 20z\"/>\n",
              "  </svg>\n",
              "      </button>\n",
              "\n",
              "\n",
              "\n",
              "    <div id=\"df-9a5f9886-abf2-48d6-9d15-1d2ac49175b5\">\n",
              "      <button class=\"colab-df-quickchart\" onclick=\"quickchart('df-9a5f9886-abf2-48d6-9d15-1d2ac49175b5')\"\n",
              "              title=\"Suggest charts.\"\n",
              "              style=\"display:none;\">\n",
              "\n",
              "<svg xmlns=\"http://www.w3.org/2000/svg\" height=\"24px\"viewBox=\"0 0 24 24\"\n",
              "     width=\"24px\">\n",
              "    <g>\n",
              "        <path d=\"M19 3H5c-1.1 0-2 .9-2 2v14c0 1.1.9 2 2 2h14c1.1 0 2-.9 2-2V5c0-1.1-.9-2-2-2zM9 17H7v-7h2v7zm4 0h-2V7h2v10zm4 0h-2v-4h2v4z\"/>\n",
              "    </g>\n",
              "</svg>\n",
              "      </button>\n",
              "    </div>\n",
              "\n",
              "<style>\n",
              "  .colab-df-quickchart {\n",
              "    background-color: #E8F0FE;\n",
              "    border: none;\n",
              "    border-radius: 50%;\n",
              "    cursor: pointer;\n",
              "    display: none;\n",
              "    fill: #1967D2;\n",
              "    height: 32px;\n",
              "    padding: 0 0 0 0;\n",
              "    width: 32px;\n",
              "  }\n",
              "\n",
              "  .colab-df-quickchart:hover {\n",
              "    background-color: #E2EBFA;\n",
              "    box-shadow: 0px 1px 2px rgba(60, 64, 67, 0.3), 0px 1px 3px 1px rgba(60, 64, 67, 0.15);\n",
              "    fill: #174EA6;\n",
              "  }\n",
              "\n",
              "  [theme=dark] .colab-df-quickchart {\n",
              "    background-color: #3B4455;\n",
              "    fill: #D2E3FC;\n",
              "  }\n",
              "\n",
              "  [theme=dark] .colab-df-quickchart:hover {\n",
              "    background-color: #434B5C;\n",
              "    box-shadow: 0px 1px 3px 1px rgba(0, 0, 0, 0.15);\n",
              "    filter: drop-shadow(0px 1px 2px rgba(0, 0, 0, 0.3));\n",
              "    fill: #FFFFFF;\n",
              "  }\n",
              "</style>\n",
              "\n",
              "    <script>\n",
              "      async function quickchart(key) {\n",
              "        const containerElement = document.querySelector('#' + key);\n",
              "        const charts = await google.colab.kernel.invokeFunction(\n",
              "            'suggestCharts', [key], {});\n",
              "      }\n",
              "    </script>\n",
              "\n",
              "      <script>\n",
              "\n",
              "function displayQuickchartButton(domScope) {\n",
              "  let quickchartButtonEl =\n",
              "    domScope.querySelector('#df-9a5f9886-abf2-48d6-9d15-1d2ac49175b5 button.colab-df-quickchart');\n",
              "  quickchartButtonEl.style.display =\n",
              "    google.colab.kernel.accessAllowed ? 'block' : 'none';\n",
              "}\n",
              "\n",
              "        displayQuickchartButton(document);\n",
              "      </script>\n",
              "      <style>\n",
              "    .colab-df-container {\n",
              "      display:flex;\n",
              "      flex-wrap:wrap;\n",
              "      gap: 12px;\n",
              "    }\n",
              "\n",
              "    .colab-df-convert {\n",
              "      background-color: #E8F0FE;\n",
              "      border: none;\n",
              "      border-radius: 50%;\n",
              "      cursor: pointer;\n",
              "      display: none;\n",
              "      fill: #1967D2;\n",
              "      height: 32px;\n",
              "      padding: 0 0 0 0;\n",
              "      width: 32px;\n",
              "    }\n",
              "\n",
              "    .colab-df-convert:hover {\n",
              "      background-color: #E2EBFA;\n",
              "      box-shadow: 0px 1px 2px rgba(60, 64, 67, 0.3), 0px 1px 3px 1px rgba(60, 64, 67, 0.15);\n",
              "      fill: #174EA6;\n",
              "    }\n",
              "\n",
              "    [theme=dark] .colab-df-convert {\n",
              "      background-color: #3B4455;\n",
              "      fill: #D2E3FC;\n",
              "    }\n",
              "\n",
              "    [theme=dark] .colab-df-convert:hover {\n",
              "      background-color: #434B5C;\n",
              "      box-shadow: 0px 1px 3px 1px rgba(0, 0, 0, 0.15);\n",
              "      filter: drop-shadow(0px 1px 2px rgba(0, 0, 0, 0.3));\n",
              "      fill: #FFFFFF;\n",
              "    }\n",
              "  </style>\n",
              "\n",
              "      <script>\n",
              "        const buttonEl =\n",
              "          document.querySelector('#df-d7fd900d-dce4-40ee-a1f3-0d029e52be88 button.colab-df-convert');\n",
              "        buttonEl.style.display =\n",
              "          google.colab.kernel.accessAllowed ? 'block' : 'none';\n",
              "\n",
              "        async function convertToInteractive(key) {\n",
              "          const element = document.querySelector('#df-d7fd900d-dce4-40ee-a1f3-0d029e52be88');\n",
              "          const dataTable =\n",
              "            await google.colab.kernel.invokeFunction('convertToInteractive',\n",
              "                                                     [key], {});\n",
              "          if (!dataTable) return;\n",
              "\n",
              "          const docLinkHtml = 'Like what you see? Visit the ' +\n",
              "            '<a target=\"_blank\" href=https://colab.research.google.com/notebooks/data_table.ipynb>data table notebook</a>'\n",
              "            + ' to learn more about interactive tables.';\n",
              "          element.innerHTML = '';\n",
              "          dataTable['output_type'] = 'display_data';\n",
              "          await google.colab.output.renderOutput(dataTable, element);\n",
              "          const docLink = document.createElement('div');\n",
              "          docLink.innerHTML = docLinkHtml;\n",
              "          element.appendChild(docLink);\n",
              "        }\n",
              "      </script>\n",
              "    </div>\n",
              "  </div>\n"
            ]
          },
          "metadata": {},
          "execution_count": 6
        }
      ]
    },
    {
      "cell_type": "code",
      "source": [
        "contingency_table_comp = pd.crosstab(survey['Gender'], survey['Computer'])\n",
        "contingency_table_comp"
      ],
      "metadata": {
        "id": "pYvkxvpdSVAe",
        "colab": {
          "base_uri": "https://localhost:8080/"
        },
        "outputId": "3c9b4b54-8405-428e-9040-1298e58de6ba"
      },
      "execution_count": null,
      "outputs": [
        {
          "output_type": "execute_result",
          "data": {
            "text/plain": [
              "Computer  Desktop  Laptop  Tablet\n",
              "Gender                           \n",
              "Female          2      29       2\n",
              "Male            3      26       0"
            ],
            "text/html": [
              "\n",
              "\n",
              "  <div id=\"df-bcfad0c3-cbf2-444a-8270-9bacfb6a6f67\">\n",
              "    <div class=\"colab-df-container\">\n",
              "      <div>\n",
              "<style scoped>\n",
              "    .dataframe tbody tr th:only-of-type {\n",
              "        vertical-align: middle;\n",
              "    }\n",
              "\n",
              "    .dataframe tbody tr th {\n",
              "        vertical-align: top;\n",
              "    }\n",
              "\n",
              "    .dataframe thead th {\n",
              "        text-align: right;\n",
              "    }\n",
              "</style>\n",
              "<table border=\"1\" class=\"dataframe\">\n",
              "  <thead>\n",
              "    <tr style=\"text-align: right;\">\n",
              "      <th>Computer</th>\n",
              "      <th>Desktop</th>\n",
              "      <th>Laptop</th>\n",
              "      <th>Tablet</th>\n",
              "    </tr>\n",
              "    <tr>\n",
              "      <th>Gender</th>\n",
              "      <th></th>\n",
              "      <th></th>\n",
              "      <th></th>\n",
              "    </tr>\n",
              "  </thead>\n",
              "  <tbody>\n",
              "    <tr>\n",
              "      <th>Female</th>\n",
              "      <td>2</td>\n",
              "      <td>29</td>\n",
              "      <td>2</td>\n",
              "    </tr>\n",
              "    <tr>\n",
              "      <th>Male</th>\n",
              "      <td>3</td>\n",
              "      <td>26</td>\n",
              "      <td>0</td>\n",
              "    </tr>\n",
              "  </tbody>\n",
              "</table>\n",
              "</div>\n",
              "      <button class=\"colab-df-convert\" onclick=\"convertToInteractive('df-bcfad0c3-cbf2-444a-8270-9bacfb6a6f67')\"\n",
              "              title=\"Convert this dataframe to an interactive table.\"\n",
              "              style=\"display:none;\">\n",
              "\n",
              "  <svg xmlns=\"http://www.w3.org/2000/svg\" height=\"24px\"viewBox=\"0 0 24 24\"\n",
              "       width=\"24px\">\n",
              "    <path d=\"M0 0h24v24H0V0z\" fill=\"none\"/>\n",
              "    <path d=\"M18.56 5.44l.94 2.06.94-2.06 2.06-.94-2.06-.94-.94-2.06-.94 2.06-2.06.94zm-11 1L8.5 8.5l.94-2.06 2.06-.94-2.06-.94L8.5 2.5l-.94 2.06-2.06.94zm10 10l.94 2.06.94-2.06 2.06-.94-2.06-.94-.94-2.06-.94 2.06-2.06.94z\"/><path d=\"M17.41 7.96l-1.37-1.37c-.4-.4-.92-.59-1.43-.59-.52 0-1.04.2-1.43.59L10.3 9.45l-7.72 7.72c-.78.78-.78 2.05 0 2.83L4 21.41c.39.39.9.59 1.41.59.51 0 1.02-.2 1.41-.59l7.78-7.78 2.81-2.81c.8-.78.8-2.07 0-2.86zM5.41 20L4 18.59l7.72-7.72 1.47 1.35L5.41 20z\"/>\n",
              "  </svg>\n",
              "      </button>\n",
              "\n",
              "\n",
              "\n",
              "    <div id=\"df-5eb2c3c9-3c4b-4b4e-9775-1dbafc4df340\">\n",
              "      <button class=\"colab-df-quickchart\" onclick=\"quickchart('df-5eb2c3c9-3c4b-4b4e-9775-1dbafc4df340')\"\n",
              "              title=\"Suggest charts.\"\n",
              "              style=\"display:none;\">\n",
              "\n",
              "<svg xmlns=\"http://www.w3.org/2000/svg\" height=\"24px\"viewBox=\"0 0 24 24\"\n",
              "     width=\"24px\">\n",
              "    <g>\n",
              "        <path d=\"M19 3H5c-1.1 0-2 .9-2 2v14c0 1.1.9 2 2 2h14c1.1 0 2-.9 2-2V5c0-1.1-.9-2-2-2zM9 17H7v-7h2v7zm4 0h-2V7h2v10zm4 0h-2v-4h2v4z\"/>\n",
              "    </g>\n",
              "</svg>\n",
              "      </button>\n",
              "    </div>\n",
              "\n",
              "<style>\n",
              "  .colab-df-quickchart {\n",
              "    background-color: #E8F0FE;\n",
              "    border: none;\n",
              "    border-radius: 50%;\n",
              "    cursor: pointer;\n",
              "    display: none;\n",
              "    fill: #1967D2;\n",
              "    height: 32px;\n",
              "    padding: 0 0 0 0;\n",
              "    width: 32px;\n",
              "  }\n",
              "\n",
              "  .colab-df-quickchart:hover {\n",
              "    background-color: #E2EBFA;\n",
              "    box-shadow: 0px 1px 2px rgba(60, 64, 67, 0.3), 0px 1px 3px 1px rgba(60, 64, 67, 0.15);\n",
              "    fill: #174EA6;\n",
              "  }\n",
              "\n",
              "  [theme=dark] .colab-df-quickchart {\n",
              "    background-color: #3B4455;\n",
              "    fill: #D2E3FC;\n",
              "  }\n",
              "\n",
              "  [theme=dark] .colab-df-quickchart:hover {\n",
              "    background-color: #434B5C;\n",
              "    box-shadow: 0px 1px 3px 1px rgba(0, 0, 0, 0.15);\n",
              "    filter: drop-shadow(0px 1px 2px rgba(0, 0, 0, 0.3));\n",
              "    fill: #FFFFFF;\n",
              "  }\n",
              "</style>\n",
              "\n",
              "    <script>\n",
              "      async function quickchart(key) {\n",
              "        const containerElement = document.querySelector('#' + key);\n",
              "        const charts = await google.colab.kernel.invokeFunction(\n",
              "            'suggestCharts', [key], {});\n",
              "      }\n",
              "    </script>\n",
              "\n",
              "      <script>\n",
              "\n",
              "function displayQuickchartButton(domScope) {\n",
              "  let quickchartButtonEl =\n",
              "    domScope.querySelector('#df-5eb2c3c9-3c4b-4b4e-9775-1dbafc4df340 button.colab-df-quickchart');\n",
              "  quickchartButtonEl.style.display =\n",
              "    google.colab.kernel.accessAllowed ? 'block' : 'none';\n",
              "}\n",
              "\n",
              "        displayQuickchartButton(document);\n",
              "      </script>\n",
              "      <style>\n",
              "    .colab-df-container {\n",
              "      display:flex;\n",
              "      flex-wrap:wrap;\n",
              "      gap: 12px;\n",
              "    }\n",
              "\n",
              "    .colab-df-convert {\n",
              "      background-color: #E8F0FE;\n",
              "      border: none;\n",
              "      border-radius: 50%;\n",
              "      cursor: pointer;\n",
              "      display: none;\n",
              "      fill: #1967D2;\n",
              "      height: 32px;\n",
              "      padding: 0 0 0 0;\n",
              "      width: 32px;\n",
              "    }\n",
              "\n",
              "    .colab-df-convert:hover {\n",
              "      background-color: #E2EBFA;\n",
              "      box-shadow: 0px 1px 2px rgba(60, 64, 67, 0.3), 0px 1px 3px 1px rgba(60, 64, 67, 0.15);\n",
              "      fill: #174EA6;\n",
              "    }\n",
              "\n",
              "    [theme=dark] .colab-df-convert {\n",
              "      background-color: #3B4455;\n",
              "      fill: #D2E3FC;\n",
              "    }\n",
              "\n",
              "    [theme=dark] .colab-df-convert:hover {\n",
              "      background-color: #434B5C;\n",
              "      box-shadow: 0px 1px 3px 1px rgba(0, 0, 0, 0.15);\n",
              "      filter: drop-shadow(0px 1px 2px rgba(0, 0, 0, 0.3));\n",
              "      fill: #FFFFFF;\n",
              "    }\n",
              "  </style>\n",
              "\n",
              "      <script>\n",
              "        const buttonEl =\n",
              "          document.querySelector('#df-bcfad0c3-cbf2-444a-8270-9bacfb6a6f67 button.colab-df-convert');\n",
              "        buttonEl.style.display =\n",
              "          google.colab.kernel.accessAllowed ? 'block' : 'none';\n",
              "\n",
              "        async function convertToInteractive(key) {\n",
              "          const element = document.querySelector('#df-bcfad0c3-cbf2-444a-8270-9bacfb6a6f67');\n",
              "          const dataTable =\n",
              "            await google.colab.kernel.invokeFunction('convertToInteractive',\n",
              "                                                     [key], {});\n",
              "          if (!dataTable) return;\n",
              "\n",
              "          const docLinkHtml = 'Like what you see? Visit the ' +\n",
              "            '<a target=\"_blank\" href=https://colab.research.google.com/notebooks/data_table.ipynb>data table notebook</a>'\n",
              "            + ' to learn more about interactive tables.';\n",
              "          element.innerHTML = '';\n",
              "          dataTable['output_type'] = 'display_data';\n",
              "          await google.colab.output.renderOutput(dataTable, element);\n",
              "          const docLink = document.createElement('div');\n",
              "          docLink.innerHTML = docLinkHtml;\n",
              "          element.appendChild(docLink);\n",
              "        }\n",
              "      </script>\n",
              "    </div>\n",
              "  </div>\n"
            ]
          },
          "metadata": {},
          "execution_count": 7
        }
      ]
    },
    {
      "cell_type": "code",
      "source": [
        "contingency_table_grad = pd.crosstab(survey['Gender'], survey['Grad Intention'])\n",
        "contingency_table_grad"
      ],
      "metadata": {
        "id": "k4ECX0lfSWVX",
        "colab": {
          "base_uri": "https://localhost:8080/"
        },
        "outputId": "1ebaa090-8a63-495f-e6d4-872a20358d37"
      },
      "execution_count": null,
      "outputs": [
        {
          "output_type": "execute_result",
          "data": {
            "text/plain": [
              "Grad Intention  No  Undecided  Yes\n",
              "Gender                            \n",
              "Female           9         13   11\n",
              "Male             3          9   17"
            ],
            "text/html": [
              "\n",
              "\n",
              "  <div id=\"df-0fa804b2-885e-4bd9-9c8b-56bec8fa7d6e\">\n",
              "    <div class=\"colab-df-container\">\n",
              "      <div>\n",
              "<style scoped>\n",
              "    .dataframe tbody tr th:only-of-type {\n",
              "        vertical-align: middle;\n",
              "    }\n",
              "\n",
              "    .dataframe tbody tr th {\n",
              "        vertical-align: top;\n",
              "    }\n",
              "\n",
              "    .dataframe thead th {\n",
              "        text-align: right;\n",
              "    }\n",
              "</style>\n",
              "<table border=\"1\" class=\"dataframe\">\n",
              "  <thead>\n",
              "    <tr style=\"text-align: right;\">\n",
              "      <th>Grad Intention</th>\n",
              "      <th>No</th>\n",
              "      <th>Undecided</th>\n",
              "      <th>Yes</th>\n",
              "    </tr>\n",
              "    <tr>\n",
              "      <th>Gender</th>\n",
              "      <th></th>\n",
              "      <th></th>\n",
              "      <th></th>\n",
              "    </tr>\n",
              "  </thead>\n",
              "  <tbody>\n",
              "    <tr>\n",
              "      <th>Female</th>\n",
              "      <td>9</td>\n",
              "      <td>13</td>\n",
              "      <td>11</td>\n",
              "    </tr>\n",
              "    <tr>\n",
              "      <th>Male</th>\n",
              "      <td>3</td>\n",
              "      <td>9</td>\n",
              "      <td>17</td>\n",
              "    </tr>\n",
              "  </tbody>\n",
              "</table>\n",
              "</div>\n",
              "      <button class=\"colab-df-convert\" onclick=\"convertToInteractive('df-0fa804b2-885e-4bd9-9c8b-56bec8fa7d6e')\"\n",
              "              title=\"Convert this dataframe to an interactive table.\"\n",
              "              style=\"display:none;\">\n",
              "\n",
              "  <svg xmlns=\"http://www.w3.org/2000/svg\" height=\"24px\"viewBox=\"0 0 24 24\"\n",
              "       width=\"24px\">\n",
              "    <path d=\"M0 0h24v24H0V0z\" fill=\"none\"/>\n",
              "    <path d=\"M18.56 5.44l.94 2.06.94-2.06 2.06-.94-2.06-.94-.94-2.06-.94 2.06-2.06.94zm-11 1L8.5 8.5l.94-2.06 2.06-.94-2.06-.94L8.5 2.5l-.94 2.06-2.06.94zm10 10l.94 2.06.94-2.06 2.06-.94-2.06-.94-.94-2.06-.94 2.06-2.06.94z\"/><path d=\"M17.41 7.96l-1.37-1.37c-.4-.4-.92-.59-1.43-.59-.52 0-1.04.2-1.43.59L10.3 9.45l-7.72 7.72c-.78.78-.78 2.05 0 2.83L4 21.41c.39.39.9.59 1.41.59.51 0 1.02-.2 1.41-.59l7.78-7.78 2.81-2.81c.8-.78.8-2.07 0-2.86zM5.41 20L4 18.59l7.72-7.72 1.47 1.35L5.41 20z\"/>\n",
              "  </svg>\n",
              "      </button>\n",
              "\n",
              "\n",
              "\n",
              "    <div id=\"df-b2163b2d-d849-4f21-935b-b590da377566\">\n",
              "      <button class=\"colab-df-quickchart\" onclick=\"quickchart('df-b2163b2d-d849-4f21-935b-b590da377566')\"\n",
              "              title=\"Suggest charts.\"\n",
              "              style=\"display:none;\">\n",
              "\n",
              "<svg xmlns=\"http://www.w3.org/2000/svg\" height=\"24px\"viewBox=\"0 0 24 24\"\n",
              "     width=\"24px\">\n",
              "    <g>\n",
              "        <path d=\"M19 3H5c-1.1 0-2 .9-2 2v14c0 1.1.9 2 2 2h14c1.1 0 2-.9 2-2V5c0-1.1-.9-2-2-2zM9 17H7v-7h2v7zm4 0h-2V7h2v10zm4 0h-2v-4h2v4z\"/>\n",
              "    </g>\n",
              "</svg>\n",
              "      </button>\n",
              "    </div>\n",
              "\n",
              "<style>\n",
              "  .colab-df-quickchart {\n",
              "    background-color: #E8F0FE;\n",
              "    border: none;\n",
              "    border-radius: 50%;\n",
              "    cursor: pointer;\n",
              "    display: none;\n",
              "    fill: #1967D2;\n",
              "    height: 32px;\n",
              "    padding: 0 0 0 0;\n",
              "    width: 32px;\n",
              "  }\n",
              "\n",
              "  .colab-df-quickchart:hover {\n",
              "    background-color: #E2EBFA;\n",
              "    box-shadow: 0px 1px 2px rgba(60, 64, 67, 0.3), 0px 1px 3px 1px rgba(60, 64, 67, 0.15);\n",
              "    fill: #174EA6;\n",
              "  }\n",
              "\n",
              "  [theme=dark] .colab-df-quickchart {\n",
              "    background-color: #3B4455;\n",
              "    fill: #D2E3FC;\n",
              "  }\n",
              "\n",
              "  [theme=dark] .colab-df-quickchart:hover {\n",
              "    background-color: #434B5C;\n",
              "    box-shadow: 0px 1px 3px 1px rgba(0, 0, 0, 0.15);\n",
              "    filter: drop-shadow(0px 1px 2px rgba(0, 0, 0, 0.3));\n",
              "    fill: #FFFFFF;\n",
              "  }\n",
              "</style>\n",
              "\n",
              "    <script>\n",
              "      async function quickchart(key) {\n",
              "        const containerElement = document.querySelector('#' + key);\n",
              "        const charts = await google.colab.kernel.invokeFunction(\n",
              "            'suggestCharts', [key], {});\n",
              "      }\n",
              "    </script>\n",
              "\n",
              "      <script>\n",
              "\n",
              "function displayQuickchartButton(domScope) {\n",
              "  let quickchartButtonEl =\n",
              "    domScope.querySelector('#df-b2163b2d-d849-4f21-935b-b590da377566 button.colab-df-quickchart');\n",
              "  quickchartButtonEl.style.display =\n",
              "    google.colab.kernel.accessAllowed ? 'block' : 'none';\n",
              "}\n",
              "\n",
              "        displayQuickchartButton(document);\n",
              "      </script>\n",
              "      <style>\n",
              "    .colab-df-container {\n",
              "      display:flex;\n",
              "      flex-wrap:wrap;\n",
              "      gap: 12px;\n",
              "    }\n",
              "\n",
              "    .colab-df-convert {\n",
              "      background-color: #E8F0FE;\n",
              "      border: none;\n",
              "      border-radius: 50%;\n",
              "      cursor: pointer;\n",
              "      display: none;\n",
              "      fill: #1967D2;\n",
              "      height: 32px;\n",
              "      padding: 0 0 0 0;\n",
              "      width: 32px;\n",
              "    }\n",
              "\n",
              "    .colab-df-convert:hover {\n",
              "      background-color: #E2EBFA;\n",
              "      box-shadow: 0px 1px 2px rgba(60, 64, 67, 0.3), 0px 1px 3px 1px rgba(60, 64, 67, 0.15);\n",
              "      fill: #174EA6;\n",
              "    }\n",
              "\n",
              "    [theme=dark] .colab-df-convert {\n",
              "      background-color: #3B4455;\n",
              "      fill: #D2E3FC;\n",
              "    }\n",
              "\n",
              "    [theme=dark] .colab-df-convert:hover {\n",
              "      background-color: #434B5C;\n",
              "      box-shadow: 0px 1px 3px 1px rgba(0, 0, 0, 0.15);\n",
              "      filter: drop-shadow(0px 1px 2px rgba(0, 0, 0, 0.3));\n",
              "      fill: #FFFFFF;\n",
              "    }\n",
              "  </style>\n",
              "\n",
              "      <script>\n",
              "        const buttonEl =\n",
              "          document.querySelector('#df-0fa804b2-885e-4bd9-9c8b-56bec8fa7d6e button.colab-df-convert');\n",
              "        buttonEl.style.display =\n",
              "          google.colab.kernel.accessAllowed ? 'block' : 'none';\n",
              "\n",
              "        async function convertToInteractive(key) {\n",
              "          const element = document.querySelector('#df-0fa804b2-885e-4bd9-9c8b-56bec8fa7d6e');\n",
              "          const dataTable =\n",
              "            await google.colab.kernel.invokeFunction('convertToInteractive',\n",
              "                                                     [key], {});\n",
              "          if (!dataTable) return;\n",
              "\n",
              "          const docLinkHtml = 'Like what you see? Visit the ' +\n",
              "            '<a target=\"_blank\" href=https://colab.research.google.com/notebooks/data_table.ipynb>data table notebook</a>'\n",
              "            + ' to learn more about interactive tables.';\n",
              "          element.innerHTML = '';\n",
              "          dataTable['output_type'] = 'display_data';\n",
              "          await google.colab.output.renderOutput(dataTable, element);\n",
              "          const docLink = document.createElement('div');\n",
              "          docLink.innerHTML = docLinkHtml;\n",
              "          element.appendChild(docLink);\n",
              "        }\n",
              "      </script>\n",
              "    </div>\n",
              "  </div>\n"
            ]
          },
          "metadata": {},
          "execution_count": 8
        }
      ]
    },
    {
      "cell_type": "markdown",
      "source": [
        "1.2. Assume that the sample is representative of the population of CMSU. Based on the data,\n",
        "answer the following question:\n",
        "\n",
        "1.2.1. What is the probability that a randomly selected CMSU student will be male?\n",
        "\n",
        "1.2.2. What is the probability that a randomly selected CMSU student will be female?"
      ],
      "metadata": {
        "id": "EDNeRt2nSjFw"
      }
    },
    {
      "cell_type": "code",
      "source": [
        "# Count the number of males in the sample\n",
        "num_males = survey[survey['Gender'] == 'Male'].shape[0]\n",
        "\n",
        "# Calculate the total number of students in the sample\n",
        "total_students = survey.shape[0]\n",
        "\n",
        "# Calculate the probability of selecting a male student\n",
        "probability_male = num_males / total_students\n",
        "\n",
        "print(\"Probability of selecting a male student:\", probability_male)"
      ],
      "metadata": {
        "colab": {
          "base_uri": "https://localhost:8080/"
        },
        "id": "4IA72qX5InL1",
        "outputId": "1dd0b9bc-5516-43b5-9c37-d1a4aea702bd"
      },
      "execution_count": null,
      "outputs": [
        {
          "output_type": "stream",
          "name": "stdout",
          "text": [
            "Probability of selecting a male student: 0.46774193548387094\n"
          ]
        }
      ]
    },
    {
      "cell_type": "code",
      "source": [
        "# Count the number of females in the sample\n",
        "num_females = survey[survey['Gender'] == 'Female'].shape[0]\n",
        "\n",
        "# Calculate the total number of students in the sample\n",
        "total_students = survey.shape[0]\n",
        "\n",
        "# Calculate the probability of selecting a female student\n",
        "probability_female = num_females / total_students\n",
        "\n",
        "print(\"Probability of selecting a female student:\", probability_female)"
      ],
      "metadata": {
        "colab": {
          "base_uri": "https://localhost:8080/"
        },
        "id": "Y5typSVWJdBB",
        "outputId": "13a7569b-4dd0-440a-b53c-b14ab2d104b0"
      },
      "execution_count": null,
      "outputs": [
        {
          "output_type": "stream",
          "name": "stdout",
          "text": [
            "Probability of selecting a female student: 0.532258064516129\n"
          ]
        }
      ]
    },
    {
      "cell_type": "markdown",
      "source": [
        "1.3. Assume that the sample is representative of the population of CMSU. Based on the data,\n",
        "answer the following question:\n",
        "\n",
        "1.3.1. Find the conditional probability of different majors among the male students in CMSU.\n",
        "\n",
        "1.3.2 Find the conditional probability of different majors among the female students of CMSU.\n"
      ],
      "metadata": {
        "id": "QaLc-NzwSqZ8"
      }
    },
    {
      "cell_type": "code",
      "source": [
        "# Calculate the total number of male and female students\n",
        "total_male_students = survey[survey['Gender'] == 'Male'].shape[0]\n",
        "total_female_students = survey[survey['Gender'] == 'Female'].shape[0]\n",
        "\n",
        "# Calculate the conditional probabilities of different majors for male students\n",
        "male_major_probabilities = survey[survey['Gender'] == 'Male']['Major'].value_counts() / total_male_students\n",
        "\n",
        "# Calculate the conditional probabilities of different majors for female students\n",
        "female_major_probabilities = survey[survey['Gender'] == 'Female']['Major'].value_counts() / total_female_students\n",
        "\n",
        "print(\"Conditional probabilities of different majors among male students:\")\n",
        "print(male_major_probabilities)\n",
        "\n",
        "print(\"\\nConditional probabilities of different majors among female students:\")\n",
        "print(female_major_probabilities)"
      ],
      "metadata": {
        "colab": {
          "base_uri": "https://localhost:8080/"
        },
        "id": "sszRyM3BJlqP",
        "outputId": "b9b73e8b-2f9a-4a4b-d803-1d7feb3e9081"
      },
      "execution_count": null,
      "outputs": [
        {
          "output_type": "stream",
          "name": "stdout",
          "text": [
            "Conditional probabilities of different majors among male students:\n",
            "Management                0.206897\n",
            "Retailing/Marketing       0.172414\n",
            "Other                     0.137931\n",
            "Economics/Finance         0.137931\n",
            "Accounting                0.137931\n",
            "Undecided                 0.103448\n",
            "International Business    0.068966\n",
            "CIS                       0.034483\n",
            "Name: Major, dtype: float64\n",
            "\n",
            "Conditional probabilities of different majors among female students:\n",
            "Retailing/Marketing       0.272727\n",
            "Economics/Finance         0.212121\n",
            "Management                0.121212\n",
            "International Business    0.121212\n",
            "Other                     0.090909\n",
            "CIS                       0.090909\n",
            "Accounting                0.090909\n",
            "Name: Major, dtype: float64\n"
          ]
        }
      ]
    },
    {
      "cell_type": "markdown",
      "source": [
        "1.4. Assume that the sample is a representative of the population of CMSU. Based on the\n",
        "data, answer the following question:\n",
        "\n",
        "1.4.1. Find the probability That a randomly chosen student is a male and intends to graduate.\n",
        "\n",
        "1.4.2 Find the probability that a randomly selected student is a female and does NOT have a\n",
        "laptop.\n"
      ],
      "metadata": {
        "id": "eyiMaP_BSwBs"
      }
    },
    {
      "cell_type": "code",
      "source": [
        "# Calculate the total number of students in the sample\n",
        "total_students = survey.shape[0]\n",
        "\n",
        "# Calculate the number of male students who intend to graduate\n",
        "male_intend_to_graduate = survey[(survey['Gender'] == 'Male') & (survey['Grad Intention'] == 'Yes')].shape[0]\n",
        "\n",
        "# Calculate the number of female students who do NOT have a laptop\n",
        "female_no_laptop = survey[(survey['Gender'] == 'Female') & (survey['Computer'] != 'Laptop')].shape[0]\n",
        "\n",
        "# Calculate the probabilities\n",
        "probability_male_intends_to_graduate = male_intend_to_graduate / total_students\n",
        "probability_female_no_laptop = female_no_laptop / total_students\n",
        "\n",
        "print(\"Probability that a randomly chosen student is a male and intends to graduate:\", probability_male_intends_to_graduate)\n",
        "print(\"Probability that a randomly selected student is a female and does NOT have a laptop:\", probability_female_no_laptop)\n"
      ],
      "metadata": {
        "colab": {
          "base_uri": "https://localhost:8080/"
        },
        "id": "63TH1GjPKn6P",
        "outputId": "0bfae8a1-43f1-4594-f278-ad7f9e9fc2d3"
      },
      "execution_count": null,
      "outputs": [
        {
          "output_type": "stream",
          "name": "stdout",
          "text": [
            "Probability that a randomly chosen student is a male and intends to graduate: 0.27419354838709675\n",
            "Probability that a randomly selected student is a female and does NOT have a laptop: 0.06451612903225806\n"
          ]
        }
      ]
    },
    {
      "cell_type": "markdown",
      "source": [
        "1.5. Assume that the sample is representative of the population of CMSU. Based on the data,\n",
        "answer the following question:\n",
        "\n",
        "1.5.1. Find the probability that a randomly chosen student is a male or has full-time\n",
        "employment?\n",
        "\n",
        "1.5.2. Find the conditional probability that given a female student is randomly chosen, she is\n",
        "majoring in international business or management.\n"
      ],
      "metadata": {
        "id": "Yp3b1glCS21H"
      }
    },
    {
      "cell_type": "code",
      "source": [
        "# Calculate the number of male students\n",
        "num_males = survey[survey['Gender'] == 'Male'].shape[0]\n",
        "\n",
        "# Calculate the number of students with full-time employment\n",
        "num_full_time_employment = survey[survey['Employment'] == 'Full-Time'].shape[0]\n",
        "\n",
        "# Calculate the number of female students majoring in international business or management\n",
        "num_female_international_or_management = survey[\n",
        "    (survey['Gender'] == 'Female') &\n",
        "    ((survey['Major'] == 'International Business') | (survey['Major'] == 'Management'))\n",
        "].shape[0]\n",
        "\n",
        "# Calculate the probabilities\n",
        "probability_male_or_full_time_employment = (num_males + num_full_time_employment) / total_students\n",
        "conditional_probability_female_international_or_management = num_female_international_or_management / (total_students - num_males)\n",
        "\n",
        "print(\"Probability that a randomly chosen student is a male or has full-time employment:\", probability_male_or_full_time_employment)\n",
        "print(\"Conditional probability that given a female student is randomly chosen, she is majoring in international business or management:\", conditional_probability_female_international_or_management)\n"
      ],
      "metadata": {
        "colab": {
          "base_uri": "https://localhost:8080/"
        },
        "id": "CKUtqHrFKwyI",
        "outputId": "223caca1-bd13-4ed1-859d-9a53b2557705"
      },
      "execution_count": null,
      "outputs": [
        {
          "output_type": "stream",
          "name": "stdout",
          "text": [
            "Probability that a randomly chosen student is a male or has full-time employment: 0.6290322580645161\n",
            "Conditional probability that given a female student is randomly chosen, she is majoring in international business or management: 0.24242424242424243\n"
          ]
        }
      ]
    },
    {
      "cell_type": "markdown",
      "source": [
        "1.6. Construct a contingency table of Gender and Intent to Graduate at 2 levels (Yes/No). The\n",
        "Undecided students are not considered now and the table is a 2x2 table. Do you think the\n",
        "graduate intention and being female are independent events?"
      ],
      "metadata": {
        "id": "G7_uhcMgS8X0"
      }
    },
    {
      "cell_type": "code",
      "source": [
        "# Filter out undecided students (True/False) and create the contingency table\n",
        "contingency_table = pd.crosstab(survey['Gender'], survey['Grad Intention'])\n",
        "\n",
        "print(\"Contingency Table:\")\n",
        "print(contingency_table)\n",
        "\n",
        "# Calculate the probabilities of intent to graduate for each gender\n",
        "probability_intent_to_graduate_male = contingency_table.loc['Male', 'Yes'] / contingency_table.loc['Male'].sum()\n",
        "probability_intent_to_graduate_female = contingency_table.loc['Female', 'Yes'] / contingency_table.loc['Female'].sum()\n",
        "\n",
        "print(\"\\nProbability of Intent to Graduate for Male students:\", probability_intent_to_graduate_male)\n",
        "print(\"Probability of Intent to Graduate for Female students:\", probability_intent_to_graduate_female)"
      ],
      "metadata": {
        "colab": {
          "base_uri": "https://localhost:8080/"
        },
        "id": "B71FX7R3K_FB",
        "outputId": "5bf2ef33-c414-4fc7-c921-dbccab97ac31"
      },
      "execution_count": null,
      "outputs": [
        {
          "output_type": "stream",
          "name": "stdout",
          "text": [
            "Contingency Table:\n",
            "Grad Intention  No  Undecided  Yes\n",
            "Gender                            \n",
            "Female           9         13   11\n",
            "Male             3          9   17\n",
            "\n",
            "Probability of Intent to Graduate for Male students: 0.5862068965517241\n",
            "Probability of Intent to Graduate for Female students: 0.3333333333333333\n"
          ]
        }
      ]
    },
    {
      "cell_type": "markdown",
      "source": [
        "***From the contingency table and the calculated probabilities, we can see that the probability of intent to graduate for male students is different from the probability for female students. Since the probabilities are different, we can conclude that the graduate intention and being female are not independent events. In other words, knowing the gender of a student affects the likelihood of them intending to graduate.***"
      ],
      "metadata": {
        "id": "Z8t3JXphMSFA"
      }
    },
    {
      "cell_type": "markdown",
      "source": [
        "1.7. Note that there are four numerical (continuous) variables in the data set, GPA, Salary,\n",
        "Spending, and Text Messages.\n",
        "\n",
        "Answer the following questions based on the data\n",
        "\n",
        "1.7.1. If a student is chosen randomly, what is the probability that his/her GPA is less than 3?\n",
        "\n",
        "1.7.2. Find the conditional probability that a randomly selected male earns 50 or more. Find\n",
        "the conditional probability that a randomly selected female earns 50 or more.\n"
      ],
      "metadata": {
        "id": "pr-6aKpQTEDc"
      }
    },
    {
      "cell_type": "code",
      "source": [
        "# Count the number of students with GPA less than 3\n",
        "num_students_gpa_less_than_3 = survey[survey['GPA'] < 3].shape[0]\n",
        "\n",
        "# Calculate the probability\n",
        "probability_gpa_less_than_3 = num_students_gpa_less_than_3 / total_students\n",
        "\n",
        "print(\"Probability that a randomly chosen student has GPA less than 3:\", probability_gpa_less_than_3)"
      ],
      "metadata": {
        "colab": {
          "base_uri": "https://localhost:8080/"
        },
        "id": "ZGyLafY_L4uV",
        "outputId": "90175c9a-951f-47aa-9f7d-e520c9226194"
      },
      "execution_count": null,
      "outputs": [
        {
          "output_type": "stream",
          "name": "stdout",
          "text": [
            "Probability that a randomly chosen student has GPA less than 3: 0.27419354838709675\n"
          ]
        }
      ]
    },
    {
      "cell_type": "code",
      "source": [
        "# Calculate the total number of male and female students\n",
        "total_male_students = survey[survey['Gender'] == 'Male'].shape[0]\n",
        "total_female_students = survey[survey['Gender'] == 'Female'].shape[0]\n",
        "\n",
        "# Calculate the number of male students with salary 50,000 or more\n",
        "num_male_earn_50k_or_more = survey[(survey['Gender'] == 'Male') & (survey['Salary'] >= 50.0)].shape[0]\n",
        "\n",
        "# Calculate the number of female students with salary 50,000 or more\n",
        "num_female_earn_50k_or_more = survey[(survey['Gender'] == 'Female') & (survey['Salary'] >= 50.0)].shape[0]\n",
        "\n",
        "# Calculate the conditional probabilities\n",
        "conditional_probability_male_earn_50k_or_more = num_male_earn_50k_or_more / total_male_students\n",
        "conditional_probability_female_earn_50k_or_more = num_female_earn_50k_or_more / total_female_students\n",
        "\n",
        "print(\"Conditional probability that a randomly selected male earns 50,000 or more:\", conditional_probability_male_earn_50k_or_more)\n",
        "print(\"Conditional probability that a randomly selected female earns 50,000 or more:\", conditional_probability_female_earn_50k_or_more)"
      ],
      "metadata": {
        "colab": {
          "base_uri": "https://localhost:8080/"
        },
        "id": "uwXtZWq0MhFH",
        "outputId": "72d84387-28e5-4d99-8a43-c4f23ce4a686"
      },
      "execution_count": null,
      "outputs": [
        {
          "output_type": "stream",
          "name": "stdout",
          "text": [
            "Conditional probability that a randomly selected male earns 50,000 or more: 0.4827586206896552\n",
            "Conditional probability that a randomly selected female earns 50,000 or more: 0.5454545454545454\n"
          ]
        }
      ]
    },
    {
      "cell_type": "markdown",
      "source": [
        "1.8. Note that there are four numerical (continuous) variables in the data set, GPA, Salary,\n",
        "Spending, and Text Messages. For each of them comment whether they follow a normal\n",
        "distribution. Write a note summarizing your conclusions."
      ],
      "metadata": {
        "id": "8VJyuwbLTOpX"
      }
    },
    {
      "cell_type": "code",
      "source": [
        "from scipy.stats import shapiro\n",
        "\n",
        "# Check the distributions using Shapiro-Wilk test\n",
        "for col in ['GPA','Salary', 'Spending', 'Text Messages']:\n",
        "    _, p_value = shapiro(survey[col])\n",
        "    if p_value > 0.05:\n",
        "        print(f\"{col} p- value is {p_value} so \")\n",
        "        print(f\"{col} approximately follows a normal distribution (p-value: {p_value:.3f}) \\n\")\n",
        "    else:\n",
        "        print(f\"{col} p- value is {p_value} so \")\n",
        "\n",
        "        print(f\"{col} does not follow a normal distribution (p-value: {p_value:.3f}) \\n\")"
      ],
      "metadata": {
        "colab": {
          "base_uri": "https://localhost:8080/"
        },
        "id": "WaE03PkUMrzO",
        "outputId": "e4730917-bfde-48fb-a0aa-fd7da22e7ed6"
      },
      "execution_count": null,
      "outputs": [
        {
          "output_type": "stream",
          "name": "stdout",
          "text": [
            "GPA p- value is 0.11203724890947342 so \n",
            "GPA approximately follows a normal distribution (p-value: 0.112) \n",
            "\n",
            "Salary p- value is 0.028003966435790062 so \n",
            "Salary does not follow a normal distribution (p-value: 0.028) \n",
            "\n",
            "Spending p- value is 1.685508141235914e-05 so \n",
            "Spending does not follow a normal distribution (p-value: 0.000) \n",
            "\n",
            "Text Messages p- value is 4.324156179791316e-06 so \n",
            "Text Messages does not follow a normal distribution (p-value: 0.000) \n",
            "\n"
          ]
        }
      ]
    },
    {
      "cell_type": "code",
      "source": [
        "sns.distplot(survey['Salary'], bins = 10, kde=True, rug= False);\n"
      ],
      "metadata": {
        "colab": {
          "base_uri": "https://localhost:8080/"
        },
        "id": "Ksdt2crtN0BV",
        "outputId": "a18e9c81-c7a7-4aee-9130-e607ca1ab272"
      },
      "execution_count": null,
      "outputs": [
        {
          "output_type": "stream",
          "name": "stderr",
          "text": [
            "<ipython-input-18-34faa33e3ede>:1: UserWarning: \n",
            "\n",
            "`distplot` is a deprecated function and will be removed in seaborn v0.14.0.\n",
            "\n",
            "Please adapt your code to use either `displot` (a figure-level function with\n",
            "similar flexibility) or `histplot` (an axes-level function for histograms).\n",
            "\n",
            "For a guide to updating your code to use the new functions, please see\n",
            "https://gist.github.com/mwaskom/de44147ed2974457ad6372750bbe5751\n",
            "\n",
            "  sns.distplot(survey['Salary'], bins = 10, kde=True, rug= False);\n"
          ]
        },
        {
          "output_type": "display_data",
          "data": {
            "text/plain": [
              "<Figure size 640x480 with 1 Axes>"
            ],
            "image/png": "[encoded data removed]"
          },
          "metadata": {}
        }
      ]
    },
    {
      "cell_type": "code",
      "source": [
        "sns.distplot(survey['Text Messages'], bins = 10, kde=True, rug= False);\n"
      ],
      "metadata": {
        "colab": {
          "base_uri": "https://localhost:8080/"
        },
        "id": "WxCYbqTGN8u-",
        "outputId": "65a6cdb6-05b7-4ab9-9f0c-17df560748dd"
      },
      "execution_count": null,
      "outputs": [
        {
          "output_type": "stream",
          "name": "stderr",
          "text": [
            "<ipython-input-19-227123b53329>:1: UserWarning: \n",
            "\n",
            "`distplot` is a deprecated function and will be removed in seaborn v0.14.0.\n",
            "\n",
            "Please adapt your code to use either `displot` (a figure-level function with\n",
            "similar flexibility) or `histplot` (an axes-level function for histograms).\n",
            "\n",
            "For a guide to updating your code to use the new functions, please see\n",
            "https://gist.github.com/mwaskom/de44147ed2974457ad6372750bbe5751\n",
            "\n",
            "  sns.distplot(survey['Text Messages'], bins = 10, kde=True, rug= False);\n"
          ]
        },
        {
          "output_type": "display_data",
          "data": {
            "text/plain": [
              "<Figure size 640x480 with 1 Axes>"
            ],
            "image/png": "[encoded data removed]"
          },
          "metadata": {}
        }
      ]
    },
    {
      "cell_type": "code",
      "source": [
        "sns.distplot(survey['GPA'], bins = 10, kde=True, rug= False);\n"
      ],
      "metadata": {
        "colab": {
          "base_uri": "https://localhost:8080/"
        },
        "id": "87G9s_jyN4MI",
        "outputId": "f7817047-a5ef-411d-96c2-1e54a07f59f1"
      },
      "execution_count": null,
      "outputs": [
        {
          "output_type": "stream",
          "name": "stderr",
          "text": [
            "<ipython-input-20-9ee871ebd4e0>:1: UserWarning: \n",
            "\n",
            "`distplot` is a deprecated function and will be removed in seaborn v0.14.0.\n",
            "\n",
            "Please adapt your code to use either `displot` (a figure-level function with\n",
            "similar flexibility) or `histplot` (an axes-level function for histograms).\n",
            "\n",
            "For a guide to updating your code to use the new functions, please see\n",
            "https://gist.github.com/mwaskom/de44147ed2974457ad6372750bbe5751\n",
            "\n",
            "  sns.distplot(survey['GPA'], bins = 10, kde=True, rug= False);\n"
          ]
        },
        {
          "output_type": "display_data",
          "data": {
            "text/plain": [
              "<Figure size 640x480 with 1 Axes>"
            ],
            "image/png": "[encoded data removed]"
          },
          "metadata": {}
        }
      ]
    },
    {
      "cell_type": "code",
      "source": [
        "sns.distplot(survey['Spending'], bins = 10, kde=True, rug= False);\n"
      ],
      "metadata": {
        "colab": {
          "base_uri": "https://localhost:8080/"
        },
        "id": "w6v8vpADN39o",
        "outputId": "3b3086ec-f690-447b-ddf8-10abe7cbeec7"
      },
      "execution_count": null,
      "outputs": [
        {
          "output_type": "stream",
          "name": "stderr",
          "text": [
            "<ipython-input-21-b390d5812971>:1: UserWarning: \n",
            "\n",
            "`distplot` is a deprecated function and will be removed in seaborn v0.14.0.\n",
            "\n",
            "Please adapt your code to use either `displot` (a figure-level function with\n",
            "similar flexibility) or `histplot` (an axes-level function for histograms).\n",
            "\n",
            "For a guide to updating your code to use the new functions, please see\n",
            "https://gist.github.com/mwaskom/de44147ed2974457ad6372750bbe5751\n",
            "\n",
            "  sns.distplot(survey['Spending'], bins = 10, kde=True, rug= False);\n"
          ]
        },
        {
          "output_type": "display_data",
          "data": {
            "text/plain": [
              "<Figure size 640x480 with 1 Axes>"
            ],
            "image/png": "[encoded data removed]"
          },
          "metadata": {}
        }
      ]
    },
    {
      "cell_type": "markdown",
      "source": [
        "<BR></BR><BR></BR><BR></BR><BR></BR>"
      ],
      "metadata": {
        "id": "C1HzsGHjVL5K"
      }
    },
    {
      "cell_type": "markdown",
      "source": [
        "# PROBLEM 2\n",
        "\n",
        "An important quality characteristic used by the manufacturers of ABC asphalt shingles is the amount\n",
        "of moisture the shingles contain when they are packaged. Customers may feel that they have\n",
        "purchased a product lacking in quality if they find moisture and wet shingles inside the packaging.\n",
        "In some cases, excessive moisture can cause the granules attached to the shingles for texture and\n",
        "coloring purposes to fall off the shingles resulting in appearance problems. To monitor the amount of\n",
        "moisture present, the company conducts moisture tests. A shingle is weighed and then dried. The\n",
        "shingle is then reweighed, and based on the amount of moisture taken out of the product, the\n",
        "pounds of moisture per 100 square feet is calculated. The company would like to show that the\n",
        "mean moisture content is less than 0.35 pounds per 100 square feet.\n",
        "The file (A & B shingles.csv ) includes 36 measurements (in pounds per 100 square feet) for A\n",
        "shingles and 31 for B shingles.\n",
        "\n",
        "2.1 Do you think there is evidence that means moisture contents in both types of shingles are\n",
        "within the permissible limits? State your conclusions clearly showing all steps.\n",
        "\n",
        "2.2 Do you think that the population mean for shingles A and B are equal? Form the\n",
        "hypothesis and conduct the test of the hypothesis. What assumption do you need to check\n",
        "before the test for equality of means is performed?"
      ],
      "metadata": {
        "id": "l4EKW1TDVOqj"
      }
    },
    {
      "cell_type": "code",
      "source": [
        "shingles = pd.read_csv(\"/content/A___B_shingles (1).csv\")"
      ],
      "metadata": {
        "id": "PhLn-8e9N33p"
      },
      "execution_count": null,
      "outputs": []
    },
    {
      "cell_type": "code",
      "source": [
        "shingles_A = shingles[['A']]\n",
        "shingles_B = shingles[['B']]\n",
        "shingles_A.dropna(inplace=True)\n",
        "shingles_B.dropna(inplace=True)"
      ],
      "metadata": {
        "colab": {
          "base_uri": "https://localhost:8080/"
        },
        "id": "p2tMT3kHPe_b",
        "outputId": "340db743-4d45-4514-c223-a8fe81f8bb4f"
      },
      "execution_count": null,
      "outputs": [
        {
          "output_type": "stream",
          "name": "stderr",
          "text": [
            "<ipython-input-23-678e10e11aff>:3: SettingWithCopyWarning: \n",
            "A value is trying to be set on a copy of a slice from a DataFrame\n",
            "\n",
            "See the caveats in the documentation: https://pandas.pydata.org/pandas-docs/stable/user_guide/indexing.html#returning-a-view-versus-a-copy\n",
            "  shingles_A.dropna(inplace=True)\n",
            "<ipython-input-23-678e10e11aff>:4: SettingWithCopyWarning: \n",
            "A value is trying to be set on a copy of a slice from a DataFrame\n",
            "\n",
            "See the caveats in the documentation: https://pandas.pydata.org/pandas-docs/stable/user_guide/indexing.html#returning-a-view-versus-a-copy\n",
            "  shingles_B.dropna(inplace=True)\n"
          ]
        }
      ]
    },
    {
      "cell_type": "code",
      "source": [
        "shingles_A.head()"
      ],
      "metadata": {
        "colab": {
          "base_uri": "https://localhost:8080/"
        },
        "id": "MGZNnYmmXrGS",
        "outputId": "a37e3fc0-09bf-4010-eb9c-17ad7308c0a4"
      },
      "execution_count": null,
      "outputs": [
        {
          "output_type": "execute_result",
          "data": {
            "text/plain": [
              "      A\n",
              "0  0.44\n",
              "1  0.61\n",
              "2  0.47\n",
              "3  0.30\n",
              "4  0.15"
            ],
            "text/html": [
              "\n",
              "\n",
              "  <div id=\"df-0d57db51-490b-4f78-8c45-84c11d92d4a7\">\n",
              "    <div class=\"colab-df-container\">\n",
              "      <div>\n",
              "<style scoped>\n",
              "    .dataframe tbody tr th:only-of-type {\n",
              "        vertical-align: middle;\n",
              "    }\n",
              "\n",
              "    .dataframe tbody tr th {\n",
              "        vertical-align: top;\n",
              "    }\n",
              "\n",
              "    .dataframe thead th {\n",
              "        text-align: right;\n",
              "    }\n",
              "</style>\n",
              "<table border=\"1\" class=\"dataframe\">\n",
              "  <thead>\n",
              "    <tr style=\"text-align: right;\">\n",
              "      <th></th>\n",
              "      <th>A</th>\n",
              "    </tr>\n",
              "  </thead>\n",
              "  <tbody>\n",
              "    <tr>\n",
              "      <th>0</th>\n",
              "      <td>0.44</td>\n",
              "    </tr>\n",
              "    <tr>\n",
              "      <th>1</th>\n",
              "      <td>0.61</td>\n",
              "    </tr>\n",
              "    <tr>\n",
              "      <th>2</th>\n",
              "      <td>0.47</td>\n",
              "    </tr>\n",
              "    <tr>\n",
              "      <th>3</th>\n",
              "      <td>0.30</td>\n",
              "    </tr>\n",
              "    <tr>\n",
              "      <th>4</th>\n",
              "      <td>0.15</td>\n",
              "    </tr>\n",
              "  </tbody>\n",
              "</table>\n",
              "</div>\n",
              "      <button class=\"colab-df-convert\" onclick=\"convertToInteractive('df-0d57db51-490b-4f78-8c45-84c11d92d4a7')\"\n",
              "              title=\"Convert this dataframe to an interactive table.\"\n",
              "              style=\"display:none;\">\n",
              "\n",
              "  <svg xmlns=\"http://www.w3.org/2000/svg\" height=\"24px\"viewBox=\"0 0 24 24\"\n",
              "       width=\"24px\">\n",
              "    <path d=\"M0 0h24v24H0V0z\" fill=\"none\"/>\n",
              "    <path d=\"M18.56 5.44l.94 2.06.94-2.06 2.06-.94-2.06-.94-.94-2.06-.94 2.06-2.06.94zm-11 1L8.5 8.5l.94-2.06 2.06-.94-2.06-.94L8.5 2.5l-.94 2.06-2.06.94zm10 10l.94 2.06.94-2.06 2.06-.94-2.06-.94-.94-2.06-.94 2.06-2.06.94z\"/><path d=\"M17.41 7.96l-1.37-1.37c-.4-.4-.92-.59-1.43-.59-.52 0-1.04.2-1.43.59L10.3 9.45l-7.72 7.72c-.78.78-.78 2.05 0 2.83L4 21.41c.39.39.9.59 1.41.59.51 0 1.02-.2 1.41-.59l7.78-7.78 2.81-2.81c.8-.78.8-2.07 0-2.86zM5.41 20L4 18.59l7.72-7.72 1.47 1.35L5.41 20z\"/>\n",
              "  </svg>\n",
              "      </button>\n",
              "\n",
              "\n",
              "\n",
              "    <div id=\"df-8dde40ef-abb2-4cf1-b31a-24bc95749751\">\n",
              "      <button class=\"colab-df-quickchart\" onclick=\"quickchart('df-8dde40ef-abb2-4cf1-b31a-24bc95749751')\"\n",
              "              title=\"Suggest charts.\"\n",
              "              style=\"display:none;\">\n",
              "\n",
              "<svg xmlns=\"http://www.w3.org/2000/svg\" height=\"24px\"viewBox=\"0 0 24 24\"\n",
              "     width=\"24px\">\n",
              "    <g>\n",
              "        <path d=\"M19 3H5c-1.1 0-2 .9-2 2v14c0 1.1.9 2 2 2h14c1.1 0 2-.9 2-2V5c0-1.1-.9-2-2-2zM9 17H7v-7h2v7zm4 0h-2V7h2v10zm4 0h-2v-4h2v4z\"/>\n",
              "    </g>\n",
              "</svg>\n",
              "      </button>\n",
              "    </div>\n",
              "\n",
              "<style>\n",
              "  .colab-df-quickchart {\n",
              "    background-color: #E8F0FE;\n",
              "    border: none;\n",
              "    border-radius: 50%;\n",
              "    cursor: pointer;\n",
              "    display: none;\n",
              "    fill: #1967D2;\n",
              "    height: 32px;\n",
              "    padding: 0 0 0 0;\n",
              "    width: 32px;\n",
              "  }\n",
              "\n",
              "  .colab-df-quickchart:hover {\n",
              "    background-color: #E2EBFA;\n",
              "    box-shadow: 0px 1px 2px rgba(60, 64, 67, 0.3), 0px 1px 3px 1px rgba(60, 64, 67, 0.15);\n",
              "    fill: #174EA6;\n",
              "  }\n",
              "\n",
              "  [theme=dark] .colab-df-quickchart {\n",
              "    background-color: #3B4455;\n",
              "    fill: #D2E3FC;\n",
              "  }\n",
              "\n",
              "  [theme=dark] .colab-df-quickchart:hover {\n",
              "    background-color: #434B5C;\n",
              "    box-shadow: 0px 1px 3px 1px rgba(0, 0, 0, 0.15);\n",
              "    filter: drop-shadow(0px 1px 2px rgba(0, 0, 0, 0.3));\n",
              "    fill: #FFFFFF;\n",
              "  }\n",
              "</style>\n",
              "\n",
              "    <script>\n",
              "      async function quickchart(key) {\n",
              "        const containerElement = document.querySelector('#' + key);\n",
              "        const charts = await google.colab.kernel.invokeFunction(\n",
              "            'suggestCharts', [key], {});\n",
              "      }\n",
              "    </script>\n",
              "\n",
              "      <script>\n",
              "\n",
              "function displayQuickchartButton(domScope) {\n",
              "  let quickchartButtonEl =\n",
              "    domScope.querySelector('#df-8dde40ef-abb2-4cf1-b31a-24bc95749751 button.colab-df-quickchart');\n",
              "  quickchartButtonEl.style.display =\n",
              "    google.colab.kernel.accessAllowed ? 'block' : 'none';\n",
              "}\n",
              "\n",
              "        displayQuickchartButton(document);\n",
              "      </script>\n",
              "      <style>\n",
              "    .colab-df-container {\n",
              "      display:flex;\n",
              "      flex-wrap:wrap;\n",
              "      gap: 12px;\n",
              "    }\n",
              "\n",
              "    .colab-df-convert {\n",
              "      background-color: #E8F0FE;\n",
              "      border: none;\n",
              "      border-radius: 50%;\n",
              "      cursor: pointer;\n",
              "      display: none;\n",
              "      fill: #1967D2;\n",
              "      height: 32px;\n",
              "      padding: 0 0 0 0;\n",
              "      width: 32px;\n",
              "    }\n",
              "\n",
              "    .colab-df-convert:hover {\n",
              "      background-color: #E2EBFA;\n",
              "      box-shadow: 0px 1px 2px rgba(60, 64, 67, 0.3), 0px 1px 3px 1px rgba(60, 64, 67, 0.15);\n",
              "      fill: #174EA6;\n",
              "    }\n",
              "\n",
              "    [theme=dark] .colab-df-convert {\n",
              "      background-color: #3B4455;\n",
              "      fill: #D2E3FC;\n",
              "    }\n",
              "\n",
              "    [theme=dark] .colab-df-convert:hover {\n",
              "      background-color: #434B5C;\n",
              "      box-shadow: 0px 1px 3px 1px rgba(0, 0, 0, 0.15);\n",
              "      filter: drop-shadow(0px 1px 2px rgba(0, 0, 0, 0.3));\n",
              "      fill: #FFFFFF;\n",
              "    }\n",
              "  </style>\n",
              "\n",
              "      <script>\n",
              "        const buttonEl =\n",
              "          document.querySelector('#df-0d57db51-490b-4f78-8c45-84c11d92d4a7 button.colab-df-convert');\n",
              "        buttonEl.style.display =\n",
              "          google.colab.kernel.accessAllowed ? 'block' : 'none';\n",
              "\n",
              "        async function convertToInteractive(key) {\n",
              "          const element = document.querySelector('#df-0d57db51-490b-4f78-8c45-84c11d92d4a7');\n",
              "          const dataTable =\n",
              "            await google.colab.kernel.invokeFunction('convertToInteractive',\n",
              "                                                     [key], {});\n",
              "          if (!dataTable) return;\n",
              "\n",
              "          const docLinkHtml = 'Like what you see? Visit the ' +\n",
              "            '<a target=\"_blank\" href=https://colab.research.google.com/notebooks/data_table.ipynb>data table notebook</a>'\n",
              "            + ' to learn more about interactive tables.';\n",
              "          element.innerHTML = '';\n",
              "          dataTable['output_type'] = 'display_data';\n",
              "          await google.colab.output.renderOutput(dataTable, element);\n",
              "          const docLink = document.createElement('div');\n",
              "          docLink.innerHTML = docLinkHtml;\n",
              "          element.appendChild(docLink);\n",
              "        }\n",
              "      </script>\n",
              "    </div>\n",
              "  </div>\n"
            ]
          },
          "metadata": {},
          "execution_count": 24
        }
      ]
    },
    {
      "cell_type": "code",
      "source": [
        "shingles_B.head()"
      ],
      "metadata": {
        "colab": {
          "base_uri": "https://localhost:8080/"
        },
        "id": "3tZVCsV0X9k2",
        "outputId": "409634f3-5ccc-45b3-99d6-004ef2b79c31"
      },
      "execution_count": null,
      "outputs": [
        {
          "output_type": "execute_result",
          "data": {
            "text/plain": [
              "      B\n",
              "0  0.14\n",
              "1  0.15\n",
              "2  0.31\n",
              "3  0.16\n",
              "4  0.37"
            ],
            "text/html": [
              "\n",
              "\n",
              "  <div id=\"df-bf711b46-645a-4908-a863-99a3563d8556\">\n",
              "    <div class=\"colab-df-container\">\n",
              "      <div>\n",
              "<style scoped>\n",
              "    .dataframe tbody tr th:only-of-type {\n",
              "        vertical-align: middle;\n",
              "    }\n",
              "\n",
              "    .dataframe tbody tr th {\n",
              "        vertical-align: top;\n",
              "    }\n",
              "\n",
              "    .dataframe thead th {\n",
              "        text-align: right;\n",
              "    }\n",
              "</style>\n",
              "<table border=\"1\" class=\"dataframe\">\n",
              "  <thead>\n",
              "    <tr style=\"text-align: right;\">\n",
              "      <th></th>\n",
              "      <th>B</th>\n",
              "    </tr>\n",
              "  </thead>\n",
              "  <tbody>\n",
              "    <tr>\n",
              "      <th>0</th>\n",
              "      <td>0.14</td>\n",
              "    </tr>\n",
              "    <tr>\n",
              "      <th>1</th>\n",
              "      <td>0.15</td>\n",
              "    </tr>\n",
              "    <tr>\n",
              "      <th>2</th>\n",
              "      <td>0.31</td>\n",
              "    </tr>\n",
              "    <tr>\n",
              "      <th>3</th>\n",
              "      <td>0.16</td>\n",
              "    </tr>\n",
              "    <tr>\n",
              "      <th>4</th>\n",
              "      <td>0.37</td>\n",
              "    </tr>\n",
              "  </tbody>\n",
              "</table>\n",
              "</div>\n",
              "      <button class=\"colab-df-convert\" onclick=\"convertToInteractive('df-bf711b46-645a-4908-a863-99a3563d8556')\"\n",
              "              title=\"Convert this dataframe to an interactive table.\"\n",
              "              style=\"display:none;\">\n",
              "\n",
              "  <svg xmlns=\"http://www.w3.org/2000/svg\" height=\"24px\"viewBox=\"0 0 24 24\"\n",
              "       width=\"24px\">\n",
              "    <path d=\"M0 0h24v24H0V0z\" fill=\"none\"/>\n",
              "    <path d=\"M18.56 5.44l.94 2.06.94-2.06 2.06-.94-2.06-.94-.94-2.06-.94 2.06-2.06.94zm-11 1L8.5 8.5l.94-2.06 2.06-.94-2.06-.94L8.5 2.5l-.94 2.06-2.06.94zm10 10l.94 2.06.94-2.06 2.06-.94-2.06-.94-.94-2.06-.94 2.06-2.06.94z\"/><path d=\"M17.41 7.96l-1.37-1.37c-.4-.4-.92-.59-1.43-.59-.52 0-1.04.2-1.43.59L10.3 9.45l-7.72 7.72c-.78.78-.78 2.05 0 2.83L4 21.41c.39.39.9.59 1.41.59.51 0 1.02-.2 1.41-.59l7.78-7.78 2.81-2.81c.8-.78.8-2.07 0-2.86zM5.41 20L4 18.59l7.72-7.72 1.47 1.35L5.41 20z\"/>\n",
              "  </svg>\n",
              "      </button>\n",
              "\n",
              "\n",
              "\n",
              "    <div id=\"df-9fadb157-5a1e-409a-86c0-848990757cc2\">\n",
              "      <button class=\"colab-df-quickchart\" onclick=\"quickchart('df-9fadb157-5a1e-409a-86c0-848990757cc2')\"\n",
              "              title=\"Suggest charts.\"\n",
              "              style=\"display:none;\">\n",
              "\n",
              "<svg xmlns=\"http://www.w3.org/2000/svg\" height=\"24px\"viewBox=\"0 0 24 24\"\n",
              "     width=\"24px\">\n",
              "    <g>\n",
              "        <path d=\"M19 3H5c-1.1 0-2 .9-2 2v14c0 1.1.9 2 2 2h14c1.1 0 2-.9 2-2V5c0-1.1-.9-2-2-2zM9 17H7v-7h2v7zm4 0h-2V7h2v10zm4 0h-2v-4h2v4z\"/>\n",
              "    </g>\n",
              "</svg>\n",
              "      </button>\n",
              "    </div>\n",
              "\n",
              "<style>\n",
              "  .colab-df-quickchart {\n",
              "    background-color: #E8F0FE;\n",
              "    border: none;\n",
              "    border-radius: 50%;\n",
              "    cursor: pointer;\n",
              "    display: none;\n",
              "    fill: #1967D2;\n",
              "    height: 32px;\n",
              "    padding: 0 0 0 0;\n",
              "    width: 32px;\n",
              "  }\n",
              "\n",
              "  .colab-df-quickchart:hover {\n",
              "    background-color: #E2EBFA;\n",
              "    box-shadow: 0px 1px 2px rgba(60, 64, 67, 0.3), 0px 1px 3px 1px rgba(60, 64, 67, 0.15);\n",
              "    fill: #174EA6;\n",
              "  }\n",
              "\n",
              "  [theme=dark] .colab-df-quickchart {\n",
              "    background-color: #3B4455;\n",
              "    fill: #D2E3FC;\n",
              "  }\n",
              "\n",
              "  [theme=dark] .colab-df-quickchart:hover {\n",
              "    background-color: #434B5C;\n",
              "    box-shadow: 0px 1px 3px 1px rgba(0, 0, 0, 0.15);\n",
              "    filter: drop-shadow(0px 1px 2px rgba(0, 0, 0, 0.3));\n",
              "    fill: #FFFFFF;\n",
              "  }\n",
              "</style>\n",
              "\n",
              "    <script>\n",
              "      async function quickchart(key) {\n",
              "        const containerElement = document.querySelector('#' + key);\n",
              "        const charts = await google.colab.kernel.invokeFunction(\n",
              "            'suggestCharts', [key], {});\n",
              "      }\n",
              "    </script>\n",
              "\n",
              "      <script>\n",
              "\n",
              "function displayQuickchartButton(domScope) {\n",
              "  let quickchartButtonEl =\n",
              "    domScope.querySelector('#df-9fadb157-5a1e-409a-86c0-848990757cc2 button.colab-df-quickchart');\n",
              "  quickchartButtonEl.style.display =\n",
              "    google.colab.kernel.accessAllowed ? 'block' : 'none';\n",
              "}\n",
              "\n",
              "        displayQuickchartButton(document);\n",
              "      </script>\n",
              "      <style>\n",
              "    .colab-df-container {\n",
              "      display:flex;\n",
              "      flex-wrap:wrap;\n",
              "      gap: 12px;\n",
              "    }\n",
              "\n",
              "    .colab-df-convert {\n",
              "      background-color: #E8F0FE;\n",
              "      border: none;\n",
              "      border-radius: 50%;\n",
              "      cursor: pointer;\n",
              "      display: none;\n",
              "      fill: #1967D2;\n",
              "      height: 32px;\n",
              "      padding: 0 0 0 0;\n",
              "      width: 32px;\n",
              "    }\n",
              "\n",
              "    .colab-df-convert:hover {\n",
              "      background-color: #E2EBFA;\n",
              "      box-shadow: 0px 1px 2px rgba(60, 64, 67, 0.3), 0px 1px 3px 1px rgba(60, 64, 67, 0.15);\n",
              "      fill: #174EA6;\n",
              "    }\n",
              "\n",
              "    [theme=dark] .colab-df-convert {\n",
              "      background-color: #3B4455;\n",
              "      fill: #D2E3FC;\n",
              "    }\n",
              "\n",
              "    [theme=dark] .colab-df-convert:hover {\n",
              "      background-color: #434B5C;\n",
              "      box-shadow: 0px 1px 3px 1px rgba(0, 0, 0, 0.15);\n",
              "      filter: drop-shadow(0px 1px 2px rgba(0, 0, 0, 0.3));\n",
              "      fill: #FFFFFF;\n",
              "    }\n",
              "  </style>\n",
              "\n",
              "      <script>\n",
              "        const buttonEl =\n",
              "          document.querySelector('#df-bf711b46-645a-4908-a863-99a3563d8556 button.colab-df-convert');\n",
              "        buttonEl.style.display =\n",
              "          google.colab.kernel.accessAllowed ? 'block' : 'none';\n",
              "\n",
              "        async function convertToInteractive(key) {\n",
              "          const element = document.querySelector('#df-bf711b46-645a-4908-a863-99a3563d8556');\n",
              "          const dataTable =\n",
              "            await google.colab.kernel.invokeFunction('convertToInteractive',\n",
              "                                                     [key], {});\n",
              "          if (!dataTable) return;\n",
              "\n",
              "          const docLinkHtml = 'Like what you see? Visit the ' +\n",
              "            '<a target=\"_blank\" href=https://colab.research.google.com/notebooks/data_table.ipynb>data table notebook</a>'\n",
              "            + ' to learn more about interactive tables.';\n",
              "          element.innerHTML = '';\n",
              "          dataTable['output_type'] = 'display_data';\n",
              "          await google.colab.output.renderOutput(dataTable, element);\n",
              "          const docLink = document.createElement('div');\n",
              "          docLink.innerHTML = docLinkHtml;\n",
              "          element.appendChild(docLink);\n",
              "        }\n",
              "      </script>\n",
              "    </div>\n",
              "  </div>\n"
            ]
          },
          "metadata": {},
          "execution_count": 25
        }
      ]
    },
    {
      "cell_type": "markdown",
      "source": [
        "To analyze the moisture content of shingles A and B and answer the given questions, we can perform hypothesis testing. In this case, we will use a two-sample t-test to compare the means of two independent samples"
      ],
      "metadata": {
        "id": "pBE0q0QzPL7a"
      }
    },
    {
      "cell_type": "markdown",
      "source": [
        "## Step 1: Creating null and alternate hypothesis\n",
        "\n",
        "1- Null Hypothesis (H0): The mean moisture content of shingles A is equal to or greater than 0.35 pounds per 100 square feet.\n",
        "\n",
        "2- Alternative Hypothesis (H1): The mean moisture content of shingles A is less than 0.35 pounds per 100 square feet.\n",
        "\n",
        "𝐻0 : 𝜇 ≥ 0.35\n",
        "\n",
        "𝐻𝐴 : 𝜇 < 0.35"
      ],
      "metadata": {
        "id": "97-xzwLoPTrB"
      }
    },
    {
      "cell_type": "markdown",
      "source": [
        "## Step 2: Decide the significance level\n",
        "\n",
        "Here we select 𝛼 = 0.05 as given in the question.\n"
      ],
      "metadata": {
        "id": "4pul2YcQWboE"
      }
    },
    {
      "cell_type": "markdown",
      "source": [
        "## Step 3: Identify the test statistic\n",
        "\n",
        "We have two samples (A and B) and we do not know the population standard deviation. Sample sizes for both samples are not the same. The sample size is , n > 30. So we use the t distribution and the 𝑡𝑆𝑇𝐴𝑇 test statistic for one sample test."
      ],
      "metadata": {
        "id": "9a9-hPyxWbf4"
      }
    },
    {
      "cell_type": "code",
      "source": [
        "from scipy.stats import ttest_1samp\n",
        "alpha = 0.05  # significance level\n",
        "\n",
        "t_statistic, p_value = ttest_1samp(shingles_A, 0.35, alternative='less')\n",
        "\n",
        "print(\"T-Statistic for Shingles A:\", t_statistic)\n",
        "print(\"P-Value for Shingles A:\", p_value)\n",
        "\n",
        "if p_value.size < alpha:\n",
        "    print(\"Reject the null hypothesis. There is evidence that the mean moisture content for Shingles A is less than 0.35 pounds per 100 square feet.\")\n",
        "else:\n",
        "    print(\"Fail to reject the null hypothesis. There is no evidence that the mean moisture content for Shingles A is less than 0.35 pounds per 100 square feet.\")"
      ],
      "metadata": {
        "colab": {
          "base_uri": "https://localhost:8080/"
        },
        "id": "PBSoEe2VOC2D",
        "outputId": "4c6864f4-4679-41ac-cc5c-8cb1a82e93c3"
      },
      "execution_count": null,
      "outputs": [
        {
          "output_type": "stream",
          "name": "stdout",
          "text": [
            "T-Statistic for Shingles A: [-1.47350463]\n",
            "P-Value for Shingles A: [0.07477633]\n",
            "Fail to reject the null hypothesis. There is no evidence that the mean moisture content for Shingles A is less than 0.35 pounds per 100 square feet.\n"
          ]
        }
      ]
    },
    {
      "cell_type": "code",
      "source": [
        "t_statistic, p_value = ttest_1samp(shingles_B, 0.35, nan_policy='omit')\n",
        "\n",
        "print(\"T-Statistic for Shingles B:\", t_statistic)\n",
        "print(\"P-Value for Shingles B:\", p_value)\n",
        "\n",
        "if p_value.size < alpha:\n",
        "    print(\"Reject the null hypothesis. There is evidence that the mean moisture content for Shingles B is less than 0.35 pounds per 100 square feet.\")\n",
        "else:\n",
        "    print(\"Fail to reject the null hypothesis. There is no evidence that the mean moisture content for Shingles B is less than 0.35 pounds per 100 square feet.\")\n"
      ],
      "metadata": {
        "colab": {
          "base_uri": "https://localhost:8080/"
        },
        "id": "T31JxipWQTbY",
        "outputId": "16908a2c-e2dd-4712-8430-cfa170a2e134"
      },
      "execution_count": null,
      "outputs": [
        {
          "output_type": "stream",
          "name": "stdout",
          "text": [
            "T-Statistic for Shingles B: [-3.10033131]\n",
            "P-Value for Shingles B: [0.00418095]\n",
            "Fail to reject the null hypothesis. There is no evidence that the mean moisture content for Shingles B is less than 0.35 pounds per 100 square feet.\n"
          ]
        }
      ]
    },
    {
      "cell_type": "markdown",
      "source": [
        "3.2 Do you think that the population mean for shingles A and B are equal? Form the hypothesis and conduct the test of the hypothesis. What assumption do you need to check before the test for equality of means is performed?"
      ],
      "metadata": {
        "id": "RwmDo5aRYHO5"
      }
    },
    {
      "cell_type": "markdown",
      "source": [
        "## Step 1: Create null and alternate hypothesis\n",
        "\n",
        "To test whether the population means for shingles A and B are equal, we can conduct a two-sample t-test. The hypothesis for the test is as follows:\n",
        "\n",
        "Null Hypothesis (H0): The population mean moisture content of shingles A is equal to the population mean moisture content of shingles B.\n",
        "\n",
        "Alternative Hypothesis (H1): The population mean moisture content of shingles A is not equal to the population mean moisture content of shingles B."
      ],
      "metadata": {
        "id": "Dq30a240YMw1"
      }
    },
    {
      "cell_type": "markdown",
      "source": [
        "## Step 2: Decide the significance level\n",
        "\n",
        "Here we select 𝛼 = 0.05 as given in the question.\n"
      ],
      "metadata": {
        "id": "fyBaeXe-Yft1"
      }
    },
    {
      "cell_type": "code",
      "source": [
        "alpha = 0.05  # significance level"
      ],
      "metadata": {
        "id": "Y6eXb0WCYqDk"
      },
      "execution_count": null,
      "outputs": []
    },
    {
      "cell_type": "markdown",
      "source": [
        "## Step 3: Identify the test statistic\n",
        "We have two samples and we do not know the population standard deviation. Sample sizes for both samples are not the same. The sample size is , n > 30. So we use the t distribution and the 𝑡𝑆𝑇𝐴𝑇 test statistic for two sample test."
      ],
      "metadata": {
        "id": "qK4USe4kYlTi"
      }
    },
    {
      "cell_type": "code",
      "source": [
        "from scipy.stats import ttest_ind\n",
        "t_statistic, p_value = ttest_ind(shingles_A, shingles_B, equal_var=True)\n",
        "\n",
        "print(\"T-Statistic for Comparison of Shingles A and B:\", t_statistic)\n",
        "print(\"P-Value for Comparison of Shingles A and B:\", p_value)\n",
        "\n",
        "if p_value < alpha:\n",
        "    print(\"Reject the null hypothesis. There is evidence that the population mean moisture content for Shingles A is different from the population mean moisture content for Shingles B.\")\n",
        "else:\n",
        "    print(\"Fail to reject the null hypothesis. There is no evidence of a significant difference in the population mean moisture content between Shingles A and B.\")"
      ],
      "metadata": {
        "colab": {
          "base_uri": "https://localhost:8080/"
        },
        "id": "1NztZ_1gRAjn",
        "outputId": "5d282cd8-15da-40f5-91e4-eae4b2c6ece4"
      },
      "execution_count": null,
      "outputs": [
        {
          "output_type": "stream",
          "name": "stdout",
          "text": [
            "T-Statistic for Comparison of Shingles A and B: [1.28962827]\n",
            "P-Value for Comparison of Shingles A and B: [0.20174966]\n",
            "Fail to reject the null hypothesis. There is no evidence of a significant difference in the population mean moisture content between Shingles A and B.\n"
          ]
        }
      ]
    },
    {
      "cell_type": "code",
      "source": [],
      "metadata": {
        "id": "2CajGnkHWFIn"
      },
      "execution_count": null,
      "outputs": []
    },
    {
      "cell_type": "markdown",
      "source": [
        "# PROBLEM 3"
      ],
      "metadata": {
        "id": "IOolWWieY5jC"
      }
    },
    {
      "cell_type": "code",
      "source": [
        "salary = pd.read_csv(\"/content/SalaryData (1).csv\")"
      ],
      "metadata": {
        "id": "lX0v2l_PZcEI"
      },
      "execution_count": null,
      "outputs": []
    },
    {
      "cell_type": "code",
      "source": [
        "salary.head()"
      ],
      "metadata": {
        "colab": {
          "base_uri": "https://localhost:8080/",
          "height": 206
        },
        "id": "aqLdtK3SZeER",
        "outputId": "04a6367b-006c-4a3b-cd98-24934ed8a951"
      },
      "execution_count": null,
      "outputs": [
        {
          "output_type": "execute_result",
          "data": {
            "text/plain": [
              "    Education     Occupation  Salary\n",
              "0   Doctorate   Adm-clerical  153197\n",
              "1   Doctorate   Adm-clerical  115945\n",
              "2   Doctorate   Adm-clerical  175935\n",
              "3   Doctorate   Adm-clerical  220754\n",
              "4   Doctorate          Sales  170769"
            ],
            "text/html": [
              "\n",
              "\n",
              "  <div id=\"df-26948429-bf32-47c2-a5a6-e3dfa8fd18dc\">\n",
              "    <div class=\"colab-df-container\">\n",
              "      <div>\n",
              "<style scoped>\n",
              "    .dataframe tbody tr th:only-of-type {\n",
              "        vertical-align: middle;\n",
              "    }\n",
              "\n",
              "    .dataframe tbody tr th {\n",
              "        vertical-align: top;\n",
              "    }\n",
              "\n",
              "    .dataframe thead th {\n",
              "        text-align: right;\n",
              "    }\n",
              "</style>\n",
              "<table border=\"1\" class=\"dataframe\">\n",
              "  <thead>\n",
              "    <tr style=\"text-align: right;\">\n",
              "      <th></th>\n",
              "      <th>Education</th>\n",
              "      <th>Occupation</th>\n",
              "      <th>Salary</th>\n",
              "    </tr>\n",
              "  </thead>\n",
              "  <tbody>\n",
              "    <tr>\n",
              "      <th>0</th>\n",
              "      <td>Doctorate</td>\n",
              "      <td>Adm-clerical</td>\n",
              "      <td>153197</td>\n",
              "    </tr>\n",
              "    <tr>\n",
              "      <th>1</th>\n",
              "      <td>Doctorate</td>\n",
              "      <td>Adm-clerical</td>\n",
              "      <td>115945</td>\n",
              "    </tr>\n",
              "    <tr>\n",
              "      <th>2</th>\n",
              "      <td>Doctorate</td>\n",
              "      <td>Adm-clerical</td>\n",
              "      <td>175935</td>\n",
              "    </tr>\n",
              "    <tr>\n",
              "      <th>3</th>\n",
              "      <td>Doctorate</td>\n",
              "      <td>Adm-clerical</td>\n",
              "      <td>220754</td>\n",
              "    </tr>\n",
              "    <tr>\n",
              "      <th>4</th>\n",
              "      <td>Doctorate</td>\n",
              "      <td>Sales</td>\n",
              "      <td>170769</td>\n",
              "    </tr>\n",
              "  </tbody>\n",
              "</table>\n",
              "</div>\n",
              "      <button class=\"colab-df-convert\" onclick=\"convertToInteractive('df-26948429-bf32-47c2-a5a6-e3dfa8fd18dc')\"\n",
              "              title=\"Convert this dataframe to an interactive table.\"\n",
              "              style=\"display:none;\">\n",
              "\n",
              "  <svg xmlns=\"http://www.w3.org/2000/svg\" height=\"24px\"viewBox=\"0 0 24 24\"\n",
              "       width=\"24px\">\n",
              "    <path d=\"M0 0h24v24H0V0z\" fill=\"none\"/>\n",
              "    <path d=\"M18.56 5.44l.94 2.06.94-2.06 2.06-.94-2.06-.94-.94-2.06-.94 2.06-2.06.94zm-11 1L8.5 8.5l.94-2.06 2.06-.94-2.06-.94L8.5 2.5l-.94 2.06-2.06.94zm10 10l.94 2.06.94-2.06 2.06-.94-2.06-.94-.94-2.06-.94 2.06-2.06.94z\"/><path d=\"M17.41 7.96l-1.37-1.37c-.4-.4-.92-.59-1.43-.59-.52 0-1.04.2-1.43.59L10.3 9.45l-7.72 7.72c-.78.78-.78 2.05 0 2.83L4 21.41c.39.39.9.59 1.41.59.51 0 1.02-.2 1.41-.59l7.78-7.78 2.81-2.81c.8-.78.8-2.07 0-2.86zM5.41 20L4 18.59l7.72-7.72 1.47 1.35L5.41 20z\"/>\n",
              "  </svg>\n",
              "      </button>\n",
              "\n",
              "\n",
              "\n",
              "    <div id=\"df-5787dfee-5249-4a5a-ac23-4c8a3444f876\">\n",
              "      <button class=\"colab-df-quickchart\" onclick=\"quickchart('df-5787dfee-5249-4a5a-ac23-4c8a3444f876')\"\n",
              "              title=\"Suggest charts.\"\n",
              "              style=\"display:none;\">\n",
              "\n",
              "<svg xmlns=\"http://www.w3.org/2000/svg\" height=\"24px\"viewBox=\"0 0 24 24\"\n",
              "     width=\"24px\">\n",
              "    <g>\n",
              "        <path d=\"M19 3H5c-1.1 0-2 .9-2 2v14c0 1.1.9 2 2 2h14c1.1 0 2-.9 2-2V5c0-1.1-.9-2-2-2zM9 17H7v-7h2v7zm4 0h-2V7h2v10zm4 0h-2v-4h2v4z\"/>\n",
              "    </g>\n",
              "</svg>\n",
              "      </button>\n",
              "    </div>\n",
              "\n",
              "<style>\n",
              "  .colab-df-quickchart {\n",
              "    background-color: #E8F0FE;\n",
              "    border: none;\n",
              "    border-radius: 50%;\n",
              "    cursor: pointer;\n",
              "    display: none;\n",
              "    fill: #1967D2;\n",
              "    height: 32px;\n",
              "    padding: 0 0 0 0;\n",
              "    width: 32px;\n",
              "  }\n",
              "\n",
              "  .colab-df-quickchart:hover {\n",
              "    background-color: #E2EBFA;\n",
              "    box-shadow: 0px 1px 2px rgba(60, 64, 67, 0.3), 0px 1px 3px 1px rgba(60, 64, 67, 0.15);\n",
              "    fill: #174EA6;\n",
              "  }\n",
              "\n",
              "  [theme=dark] .colab-df-quickchart {\n",
              "    background-color: #3B4455;\n",
              "    fill: #D2E3FC;\n",
              "  }\n",
              "\n",
              "  [theme=dark] .colab-df-quickchart:hover {\n",
              "    background-color: #434B5C;\n",
              "    box-shadow: 0px 1px 3px 1px rgba(0, 0, 0, 0.15);\n",
              "    filter: drop-shadow(0px 1px 2px rgba(0, 0, 0, 0.3));\n",
              "    fill: #FFFFFF;\n",
              "  }\n",
              "</style>\n",
              "\n",
              "    <script>\n",
              "      async function quickchart(key) {\n",
              "        const containerElement = document.querySelector('#' + key);\n",
              "        const charts = await google.colab.kernel.invokeFunction(\n",
              "            'suggestCharts', [key], {});\n",
              "      }\n",
              "    </script>\n",
              "\n",
              "      <script>\n",
              "\n",
              "function displayQuickchartButton(domScope) {\n",
              "  let quickchartButtonEl =\n",
              "    domScope.querySelector('#df-5787dfee-5249-4a5a-ac23-4c8a3444f876 button.colab-df-quickchart');\n",
              "  quickchartButtonEl.style.display =\n",
              "    google.colab.kernel.accessAllowed ? 'block' : 'none';\n",
              "}\n",
              "\n",
              "        displayQuickchartButton(document);\n",
              "      </script>\n",
              "      <style>\n",
              "    .colab-df-container {\n",
              "      display:flex;\n",
              "      flex-wrap:wrap;\n",
              "      gap: 12px;\n",
              "    }\n",
              "\n",
              "    .colab-df-convert {\n",
              "      background-color: #E8F0FE;\n",
              "      border: none;\n",
              "      border-radius: 50%;\n",
              "      cursor: pointer;\n",
              "      display: none;\n",
              "      fill: #1967D2;\n",
              "      height: 32px;\n",
              "      padding: 0 0 0 0;\n",
              "      width: 32px;\n",
              "    }\n",
              "\n",
              "    .colab-df-convert:hover {\n",
              "      background-color: #E2EBFA;\n",
              "      box-shadow: 0px 1px 2px rgba(60, 64, 67, 0.3), 0px 1px 3px 1px rgba(60, 64, 67, 0.15);\n",
              "      fill: #174EA6;\n",
              "    }\n",
              "\n",
              "    [theme=dark] .colab-df-convert {\n",
              "      background-color: #3B4455;\n",
              "      fill: #D2E3FC;\n",
              "    }\n",
              "\n",
              "    [theme=dark] .colab-df-convert:hover {\n",
              "      background-color: #434B5C;\n",
              "      box-shadow: 0px 1px 3px 1px rgba(0, 0, 0, 0.15);\n",
              "      filter: drop-shadow(0px 1px 2px rgba(0, 0, 0, 0.3));\n",
              "      fill: #FFFFFF;\n",
              "    }\n",
              "  </style>\n",
              "\n",
              "      <script>\n",
              "        const buttonEl =\n",
              "          document.querySelector('#df-26948429-bf32-47c2-a5a6-e3dfa8fd18dc button.colab-df-convert');\n",
              "        buttonEl.style.display =\n",
              "          google.colab.kernel.accessAllowed ? 'block' : 'none';\n",
              "\n",
              "        async function convertToInteractive(key) {\n",
              "          const element = document.querySelector('#df-26948429-bf32-47c2-a5a6-e3dfa8fd18dc');\n",
              "          const dataTable =\n",
              "            await google.colab.kernel.invokeFunction('convertToInteractive',\n",
              "                                                     [key], {});\n",
              "          if (!dataTable) return;\n",
              "\n",
              "          const docLinkHtml = 'Like what you see? Visit the ' +\n",
              "            '<a target=\"_blank\" href=https://colab.research.google.com/notebooks/data_table.ipynb>data table notebook</a>'\n",
              "            + ' to learn more about interactive tables.';\n",
              "          element.innerHTML = '';\n",
              "          dataTable['output_type'] = 'display_data';\n",
              "          await google.colab.output.renderOutput(dataTable, element);\n",
              "          const docLink = document.createElement('div');\n",
              "          docLink.innerHTML = docLinkHtml;\n",
              "          element.appendChild(docLink);\n",
              "        }\n",
              "      </script>\n",
              "    </div>\n",
              "  </div>\n"
            ]
          },
          "metadata": {},
          "execution_count": 31
        }
      ]
    },
    {
      "cell_type": "code",
      "source": [
        "salary.describe()"
      ],
      "metadata": {
        "colab": {
          "base_uri": "https://localhost:8080/",
          "height": 300
        },
        "id": "X2oO4q1fZgPk",
        "outputId": "0613a4b2-f4ef-471a-85e6-c7bf735a3159"
      },
      "execution_count": null,
      "outputs": [
        {
          "output_type": "execute_result",
          "data": {
            "text/plain": [
              "              Salary\n",
              "count      40.000000\n",
              "mean   162186.875000\n",
              "std     64860.407506\n",
              "min     50103.000000\n",
              "25%     99897.500000\n",
              "50%    169100.000000\n",
              "75%    214440.750000\n",
              "max    260151.000000"
            ],
            "text/html": [
              "\n",
              "\n",
              "  <div id=\"df-c8093850-3a36-4735-82aa-4e31fe1f4c0c\">\n",
              "    <div class=\"colab-df-container\">\n",
              "      <div>\n",
              "<style scoped>\n",
              "    .dataframe tbody tr th:only-of-type {\n",
              "        vertical-align: middle;\n",
              "    }\n",
              "\n",
              "    .dataframe tbody tr th {\n",
              "        vertical-align: top;\n",
              "    }\n",
              "\n",
              "    .dataframe thead th {\n",
              "        text-align: right;\n",
              "    }\n",
              "</style>\n",
              "<table border=\"1\" class=\"dataframe\">\n",
              "  <thead>\n",
              "    <tr style=\"text-align: right;\">\n",
              "      <th></th>\n",
              "      <th>Salary</th>\n",
              "    </tr>\n",
              "  </thead>\n",
              "  <tbody>\n",
              "    <tr>\n",
              "      <th>count</th>\n",
              "      <td>40.000000</td>\n",
              "    </tr>\n",
              "    <tr>\n",
              "      <th>mean</th>\n",
              "      <td>162186.875000</td>\n",
              "    </tr>\n",
              "    <tr>\n",
              "      <th>std</th>\n",
              "      <td>64860.407506</td>\n",
              "    </tr>\n",
              "    <tr>\n",
              "      <th>min</th>\n",
              "      <td>50103.000000</td>\n",
              "    </tr>\n",
              "    <tr>\n",
              "      <th>25%</th>\n",
              "      <td>99897.500000</td>\n",
              "    </tr>\n",
              "    <tr>\n",
              "      <th>50%</th>\n",
              "      <td>169100.000000</td>\n",
              "    </tr>\n",
              "    <tr>\n",
              "      <th>75%</th>\n",
              "      <td>214440.750000</td>\n",
              "    </tr>\n",
              "    <tr>\n",
              "      <th>max</th>\n",
              "      <td>260151.000000</td>\n",
              "    </tr>\n",
              "  </tbody>\n",
              "</table>\n",
              "</div>\n",
              "      <button class=\"colab-df-convert\" onclick=\"convertToInteractive('df-c8093850-3a36-4735-82aa-4e31fe1f4c0c')\"\n",
              "              title=\"Convert this dataframe to an interactive table.\"\n",
              "              style=\"display:none;\">\n",
              "\n",
              "  <svg xmlns=\"http://www.w3.org/2000/svg\" height=\"24px\"viewBox=\"0 0 24 24\"\n",
              "       width=\"24px\">\n",
              "    <path d=\"M0 0h24v24H0V0z\" fill=\"none\"/>\n",
              "    <path d=\"M18.56 5.44l.94 2.06.94-2.06 2.06-.94-2.06-.94-.94-2.06-.94 2.06-2.06.94zm-11 1L8.5 8.5l.94-2.06 2.06-.94-2.06-.94L8.5 2.5l-.94 2.06-2.06.94zm10 10l.94 2.06.94-2.06 2.06-.94-2.06-.94-.94-2.06-.94 2.06-2.06.94z\"/><path d=\"M17.41 7.96l-1.37-1.37c-.4-.4-.92-.59-1.43-.59-.52 0-1.04.2-1.43.59L10.3 9.45l-7.72 7.72c-.78.78-.78 2.05 0 2.83L4 21.41c.39.39.9.59 1.41.59.51 0 1.02-.2 1.41-.59l7.78-7.78 2.81-2.81c.8-.78.8-2.07 0-2.86zM5.41 20L4 18.59l7.72-7.72 1.47 1.35L5.41 20z\"/>\n",
              "  </svg>\n",
              "      </button>\n",
              "\n",
              "\n",
              "\n",
              "    <div id=\"df-15661596-2d8b-4cc8-b51d-6fe6582e808b\">\n",
              "      <button class=\"colab-df-quickchart\" onclick=\"quickchart('df-15661596-2d8b-4cc8-b51d-6fe6582e808b')\"\n",
              "              title=\"Suggest charts.\"\n",
              "              style=\"display:none;\">\n",
              "\n",
              "<svg xmlns=\"http://www.w3.org/2000/svg\" height=\"24px\"viewBox=\"0 0 24 24\"\n",
              "     width=\"24px\">\n",
              "    <g>\n",
              "        <path d=\"M19 3H5c-1.1 0-2 .9-2 2v14c0 1.1.9 2 2 2h14c1.1 0 2-.9 2-2V5c0-1.1-.9-2-2-2zM9 17H7v-7h2v7zm4 0h-2V7h2v10zm4 0h-2v-4h2v4z\"/>\n",
              "    </g>\n",
              "</svg>\n",
              "      </button>\n",
              "    </div>\n",
              "\n",
              "<style>\n",
              "  .colab-df-quickchart {\n",
              "    background-color: #E8F0FE;\n",
              "    border: none;\n",
              "    border-radius: 50%;\n",
              "    cursor: pointer;\n",
              "    display: none;\n",
              "    fill: #1967D2;\n",
              "    height: 32px;\n",
              "    padding: 0 0 0 0;\n",
              "    width: 32px;\n",
              "  }\n",
              "\n",
              "  .colab-df-quickchart:hover {\n",
              "    background-color: #E2EBFA;\n",
              "    box-shadow: 0px 1px 2px rgba(60, 64, 67, 0.3), 0px 1px 3px 1px rgba(60, 64, 67, 0.15);\n",
              "    fill: #174EA6;\n",
              "  }\n",
              "\n",
              "  [theme=dark] .colab-df-quickchart {\n",
              "    background-color: #3B4455;\n",
              "    fill: #D2E3FC;\n",
              "  }\n",
              "\n",
              "  [theme=dark] .colab-df-quickchart:hover {\n",
              "    background-color: #434B5C;\n",
              "    box-shadow: 0px 1px 3px 1px rgba(0, 0, 0, 0.15);\n",
              "    filter: drop-shadow(0px 1px 2px rgba(0, 0, 0, 0.3));\n",
              "    fill: #FFFFFF;\n",
              "  }\n",
              "</style>\n",
              "\n",
              "    <script>\n",
              "      async function quickchart(key) {\n",
              "        const containerElement = document.querySelector('#' + key);\n",
              "        const charts = await google.colab.kernel.invokeFunction(\n",
              "            'suggestCharts', [key], {});\n",
              "      }\n",
              "    </script>\n",
              "\n",
              "      <script>\n",
              "\n",
              "function displayQuickchartButton(domScope) {\n",
              "  let quickchartButtonEl =\n",
              "    domScope.querySelector('#df-15661596-2d8b-4cc8-b51d-6fe6582e808b button.colab-df-quickchart');\n",
              "  quickchartButtonEl.style.display =\n",
              "    google.colab.kernel.accessAllowed ? 'block' : 'none';\n",
              "}\n",
              "\n",
              "        displayQuickchartButton(document);\n",
              "      </script>\n",
              "      <style>\n",
              "    .colab-df-container {\n",
              "      display:flex;\n",
              "      flex-wrap:wrap;\n",
              "      gap: 12px;\n",
              "    }\n",
              "\n",
              "    .colab-df-convert {\n",
              "      background-color: #E8F0FE;\n",
              "      border: none;\n",
              "      border-radius: 50%;\n",
              "      cursor: pointer;\n",
              "      display: none;\n",
              "      fill: #1967D2;\n",
              "      height: 32px;\n",
              "      padding: 0 0 0 0;\n",
              "      width: 32px;\n",
              "    }\n",
              "\n",
              "    .colab-df-convert:hover {\n",
              "      background-color: #E2EBFA;\n",
              "      box-shadow: 0px 1px 2px rgba(60, 64, 67, 0.3), 0px 1px 3px 1px rgba(60, 64, 67, 0.15);\n",
              "      fill: #174EA6;\n",
              "    }\n",
              "\n",
              "    [theme=dark] .colab-df-convert {\n",
              "      background-color: #3B4455;\n",
              "      fill: #D2E3FC;\n",
              "    }\n",
              "\n",
              "    [theme=dark] .colab-df-convert:hover {\n",
              "      background-color: #434B5C;\n",
              "      box-shadow: 0px 1px 3px 1px rgba(0, 0, 0, 0.15);\n",
              "      filter: drop-shadow(0px 1px 2px rgba(0, 0, 0, 0.3));\n",
              "      fill: #FFFFFF;\n",
              "    }\n",
              "  </style>\n",
              "\n",
              "      <script>\n",
              "        const buttonEl =\n",
              "          document.querySelector('#df-c8093850-3a36-4735-82aa-4e31fe1f4c0c button.colab-df-convert');\n",
              "        buttonEl.style.display =\n",
              "          google.colab.kernel.accessAllowed ? 'block' : 'none';\n",
              "\n",
              "        async function convertToInteractive(key) {\n",
              "          const element = document.querySelector('#df-c8093850-3a36-4735-82aa-4e31fe1f4c0c');\n",
              "          const dataTable =\n",
              "            await google.colab.kernel.invokeFunction('convertToInteractive',\n",
              "                                                     [key], {});\n",
              "          if (!dataTable) return;\n",
              "\n",
              "          const docLinkHtml = 'Like what you see? Visit the ' +\n",
              "            '<a target=\"_blank\" href=https://colab.research.google.com/notebooks/data_table.ipynb>data table notebook</a>'\n",
              "            + ' to learn more about interactive tables.';\n",
              "          element.innerHTML = '';\n",
              "          dataTable['output_type'] = 'display_data';\n",
              "          await google.colab.output.renderOutput(dataTable, element);\n",
              "          const docLink = document.createElement('div');\n",
              "          docLink.innerHTML = docLinkHtml;\n",
              "          element.appendChild(docLink);\n",
              "        }\n",
              "      </script>\n",
              "    </div>\n",
              "  </div>\n"
            ]
          },
          "metadata": {},
          "execution_count": 32
        }
      ]
    },
    {
      "cell_type": "code",
      "source": [
        "salary['Education'] = salary['Education'].str.strip()\n",
        "salary['Occupation'] = salary['Occupation'].str.strip()\n"
      ],
      "metadata": {
        "id": "5Wx_1v8iqLAi"
      },
      "execution_count": null,
      "outputs": []
    },
    {
      "cell_type": "code",
      "source": [
        "salary.info()"
      ],
      "metadata": {
        "colab": {
          "base_uri": "https://localhost:8080/"
        },
        "id": "Wb5GALtLZgIt",
        "outputId": "38467018-1820-4c10-b771-4ff610f4eeb6"
      },
      "execution_count": null,
      "outputs": [
        {
          "output_type": "stream",
          "name": "stdout",
          "text": [
            "<class 'pandas.core.frame.DataFrame'>\n",
            "RangeIndex: 40 entries, 0 to 39\n",
            "Data columns (total 3 columns):\n",
            " #   Column      Non-Null Count  Dtype \n",
            "---  ------      --------------  ----- \n",
            " 0   Education   40 non-null     object\n",
            " 1   Occupation  40 non-null     object\n",
            " 2   Salary      40 non-null     int64 \n",
            "dtypes: int64(1), object(2)\n",
            "memory usage: 1.1+ KB\n"
          ]
        }
      ]
    },
    {
      "cell_type": "markdown",
      "source": [
        "Salary is hypothesized to depend on educational qualification and occupation. To understand the\n",
        "dependency, the salaries of 40 individuals [SalaryData.csv ] are collected and each person’s\n",
        "educational qualification and occupation are noted. Educational qualification is at three levels, High\n",
        "school graduate, Bachelor's, and Doctorate. Occupation is at four levels, Administrative and clerical,\n",
        "Sales, Professional or specialty, and Executive or managerial. A different number of observations\n",
        "are in each level of education – occupation combination.\n",
        "\n",
        "[Assume that the data follows a normal distribution. In reality, the normality assumption may not\n",
        "always hold if the sample size is small.]"
      ],
      "metadata": {
        "id": "0i-LKyIBZIV3"
      }
    },
    {
      "cell_type": "markdown",
      "source": [
        "1. State the null and the alternate hypothesis for conducting one-way ANOVA for both\n",
        "Education and Occupation individually.\n",
        "\n"
      ],
      "metadata": {
        "id": "oaM_91yzZN0n"
      }
    },
    {
      "cell_type": "markdown",
      "source": [
        "## Solution 1"
      ],
      "metadata": {
        "id": "UmgviaNhmvD9"
      }
    },
    {
      "cell_type": "markdown",
      "source": [
        "For Education:\n",
        "\n",
        "Null Hypothesis (H0): There is no significant difference in the mean salary among the three levels of educational qualification (High school graduate, Bachelor's, and Doctorate).\n",
        "\n",
        "Alternative Hypothesis (H1): There is a significant difference in the mean salary among the three levels of educational qualification."
      ],
      "metadata": {
        "id": "rBavoinimqaK"
      }
    },
    {
      "cell_type": "markdown",
      "source": [
        "For Occupation:\n",
        "\n",
        "Null Hypothesis (H0): There is no significant difference in the mean salary among the four occupation categories (Administrative and clerical, Sales, Professional or specialty, and Executive or managerial).\n",
        "\n",
        "Alternative Hypothesis (H1): There is a significant difference in the mean salary among the four occupation categories."
      ],
      "metadata": {
        "id": "mXMBZ6RKp6iy"
      }
    },
    {
      "cell_type": "markdown",
      "source": [
        "2. Perform a one-way ANOVA on Salary with respect to Education. State whether the null\n",
        "hypothesis is accepted or rejected based on the ANOVA results.\n"
      ],
      "metadata": {
        "id": "sL3fbppAZP2F"
      }
    },
    {
      "cell_type": "markdown",
      "source": [
        "## Solution 2"
      ],
      "metadata": {
        "id": "eN--MuclpaNm"
      }
    },
    {
      "cell_type": "code",
      "source": [
        "from scipy.stats import f_oneway"
      ],
      "metadata": {
        "id": "l-GRktEaZCKC"
      },
      "execution_count": null,
      "outputs": []
    },
    {
      "cell_type": "code",
      "source": [
        "# Perform one-way ANOVA for Education\n",
        "f_statistic_edu, p_value_edu = f_oneway(\n",
        "    salary[salary['Education'] == 'HS-grad']['Salary'],\n",
        "    salary[salary['Education'] == \"Bachelors\"]['Salary'],\n",
        "    salary[salary['Education'] == 'Doctorate']['Salary']\n",
        ")\n",
        "\n",
        "print(\"One-way ANOVA for Education:\")\n",
        "print(\"F-Statistic:\", f_statistic_edu)\n",
        "print(\"P-Value:\", p_value_edu)\n",
        "\n",
        "# Decision for Education\n",
        "alpha = 0.05\n",
        "if p_value_edu < alpha:\n",
        "    print(\"Reject the null hypothesis for Education. There is a significant difference in mean salary among the educational qualification levels.\")\n",
        "else:\n",
        "    print(\"Fail to reject the null hypothesis for Education. There is no significant difference in mean salary among the educational qualification levels.\")"
      ],
      "metadata": {
        "colab": {
          "base_uri": "https://localhost:8080/"
        },
        "id": "IhhwTzkupcMt",
        "outputId": "17e761f1-4c5b-47ac-bb69-0e468e3c1c73"
      },
      "execution_count": null,
      "outputs": [
        {
          "output_type": "stream",
          "name": "stdout",
          "text": [
            "One-way ANOVA for Education:\n",
            "F-Statistic: 30.95628008792558\n",
            "P-Value: 1.2577090926629002e-08\n",
            "Reject the null hypothesis for Education. There is a significant difference in mean salary among the educational qualification levels.\n"
          ]
        }
      ]
    },
    {
      "cell_type": "markdown",
      "source": [
        "3. Perform a one-way ANOVA on Salary with respect to Occupation. State whether the null\n",
        "hypothesis is accepted or rejected based on the ANOVA results.\n"
      ],
      "metadata": {
        "id": "1claLSGBZRsf"
      }
    },
    {
      "cell_type": "markdown",
      "source": [
        "## Solution 3"
      ],
      "metadata": {
        "id": "R7S-7QJPqOyl"
      }
    },
    {
      "cell_type": "code",
      "source": [
        "# Perform one-way ANOVA for Occupation\n",
        "f_statistic_occ, p_value_occ = f_oneway(\n",
        "    salary[salary['Occupation'] == 'Prof-specialty']['Salary'],\n",
        "    salary[salary['Occupation'] == 'Sales']['Salary'],\n",
        "    salary[salary['Occupation'] == 'Adm-clerical']['Salary'],\n",
        "    salary[salary['Occupation'] == 'Exec-managerial']['Salary']\n",
        ")\n",
        "\n",
        "print(\"\\nOne-way ANOVA for Occupation:\")\n",
        "print(\"F-Statistic:\", f_statistic_occ)\n",
        "print(\"P-Value:\", p_value_occ)\n",
        "\n",
        "# Decision for Occupation\n",
        "if p_value_occ < alpha:\n",
        "    print(\"Reject the null hypothesis for Occupation. There is a significant difference in mean salary among the occupation categories.\")\n",
        "else:\n",
        "    print(\"Fail to reject the null hypothesis for Occupation. There is no significant difference in mean salary among the occupation categories.\")"
      ],
      "metadata": {
        "id": "Z5MziXgzqBG9",
        "colab": {
          "base_uri": "https://localhost:8080/"
        },
        "outputId": "8af90b5f-7fcb-4aea-f880-88f40278b9cc"
      },
      "execution_count": null,
      "outputs": [
        {
          "output_type": "stream",
          "name": "stdout",
          "text": [
            "\n",
            "One-way ANOVA for Occupation:\n",
            "F-Statistic: 0.8841441289216039\n",
            "P-Value: 0.4585078266495116\n",
            "Fail to reject the null hypothesis for Occupation. There is no significant difference in mean salary among the occupation categories.\n"
          ]
        }
      ]
    },
    {
      "cell_type": "markdown",
      "source": [
        "4. If the null hypothesis is rejected in either (2) or in (3), find out which class means are\n",
        "significantly different. Interpret the result. (Non-Graded)"
      ],
      "metadata": {
        "id": "QblMt2cmZUJA"
      }
    },
    {
      "cell_type": "markdown",
      "source": [
        "## Solution 4"
      ],
      "metadata": {
        "id": "U5DRxT63sSJn"
      }
    },
    {
      "cell_type": "markdown",
      "source": [
        "5. Perform a two-way ANOVA based on Salary with respect to both Education and\n",
        "Occupation (along with their interaction Education*Occupation). State the null and\n",
        "alternative hypotheses and state your results. How will you interpret this result?\n"
      ],
      "metadata": {
        "id": "5P2uz9gPZV8l"
      }
    },
    {
      "cell_type": "markdown",
      "source": [
        "## Solution 5"
      ],
      "metadata": {
        "id": "CsDPQH-3ruM8"
      }
    },
    {
      "cell_type": "markdown",
      "source": [
        "The null and alternative hypotheses for the two-way ANOVA are as follows:\n",
        "\n",
        "Null Hypotheses:\n",
        "\n",
        "There is no significant difference in mean salary among the different levels of educational qualification (High school graduate, Bachelor's, and Doctorate).\n",
        "\n",
        "There is no significant difference in mean salary among the different occupation categories (Administrative and clerical, Sales, Professional or specialty, and Executive or managerial).\n",
        "\n",
        "There is no interaction effect between Education and Occupation on mean salary.\n",
        "\n",
        "<br/>\n",
        "<br/>\n",
        "Alternative Hypotheses:\n",
        "\n",
        "There is a significant difference in mean salary among the different levels of educational qualification.\n",
        "\n",
        "There is a significant difference in mean salary among the different occupation categories.\n",
        "\n",
        "There is an interaction effect between Education and Occupation on mean salary."
      ],
      "metadata": {
        "id": "fDXk0yD4qmtc"
      }
    },
    {
      "cell_type": "code",
      "source": [
        "import statsmodels.api as sm\n",
        "from statsmodels.formula.api import ols"
      ],
      "metadata": {
        "id": "a4NPdBqTqyKU"
      },
      "execution_count": null,
      "outputs": []
    },
    {
      "cell_type": "code",
      "source": [
        "# Perform two-way ANOVA\n",
        "model = ols('Salary ~ Education * Occupation', data=salary).fit()\n",
        "anova_table = sm.stats.anova_lm(model, typ=2)\n",
        "\n",
        "print(\"Two-way ANOVA:\")\n",
        "print(anova_table)"
      ],
      "metadata": {
        "id": "VbH9PaoCq0WR",
        "colab": {
          "base_uri": "https://localhost:8080/"
        },
        "outputId": "57aaaa7a-eb08-468a-f7d8-db21b3ea58a8"
      },
      "execution_count": null,
      "outputs": [
        {
          "output_type": "stream",
          "name": "stdout",
          "text": [
            "Two-way ANOVA:\n",
            "                            sum_sq    df          F        PR(>F)\n",
            "Education             9.811245e+10   2.0  68.989336  3.716726e-09\n",
            "Occupation            1.389591e+09   3.0   0.651409  5.287707e-01\n",
            "Education:Occupation  4.227791e+10   6.0   9.909463  1.323371e-05\n",
            "Residual              2.062102e+10  29.0        NaN           NaN\n"
          ]
        },
        {
          "output_type": "stream",
          "name": "stderr",
          "text": [
            "/usr/local/lib/python3.10/dist-packages/statsmodels/base/model.py:1871: ValueWarning: covariance of constraints does not have full rank. The number of constraints is 2, but rank is 1\n",
            "  warnings.warn('covariance of constraints does not have full '\n",
            "/usr/local/lib/python3.10/dist-packages/statsmodels/base/model.py:1871: ValueWarning: covariance of constraints does not have full rank. The number of constraints is 3, but rank is 2\n",
            "  warnings.warn('covariance of constraints does not have full '\n",
            "/usr/local/lib/python3.10/dist-packages/statsmodels/base/model.py:1871: ValueWarning: covariance of constraints does not have full rank. The number of constraints is 6, but rank is 5\n",
            "  warnings.warn('covariance of constraints does not have full '\n"
          ]
        }
      ]
    },
    {
      "cell_type": "markdown",
      "source": [
        "Based on the two-way ANOVA results, here are the key findings:\n",
        "\n",
        "1. Education: The p-value for Education is very small (approximately 3.72e-09), which is much less than the significance level of 0.05. Therefore, we reject the null hypothesis for Education. It indicates that there is a significant difference in mean salary among the different levels of educational qualification (High school graduate, Bachelor's, and Doctorate).\n",
        "\n",
        "2. Occupation: The p-value for Occupation is 0.5287, which is greater than the significance level of 0.05. Therefore, we fail to reject the null hypothesis for Occupation. It suggests that there is no significant difference in mean salary among the different occupation categories (Administrative and clerical, Sales, Professional or specialty, and Executive or managerial).\n",
        "\n",
        "3. Education:Occupation Interaction: The p-value for the interaction term (Education*Occupation) is very small (approximately 1.32e-05), which is much less than the significance level of 0.05. Therefore, we reject the null hypothesis for the interaction term. It indicates that the effect of one factor (Education) on salary depends on the levels of the other factor (Occupation) and vice versa. In other words, the combination of Education and Occupation has a joint effect on Salary.\n",
        "\n",
        "4. Residual: The residual represents the unexplained variance in the model. Its sum of squares (sum_sq) is 2.062102e+10 with 29 degrees of freedom."
      ],
      "metadata": {
        "id": "yxQzVCtorDhL"
      }
    },
    {
      "cell_type": "markdown",
      "source": [
        "In summary, the two-way ANOVA indicates that both Education and the interaction between Education and Occupation have a significant effect on salary. However, there is no significant difference in mean salary among the different occupation categories. The combination of Education and Occupation together affects salary, and the interaction term plays a role in determining salary levels."
      ],
      "metadata": {
        "id": "FMwkFqGlrMKi"
      }
    },
    {
      "cell_type": "markdown",
      "source": [
        "6. Explain the business implications of performing ANOVA for this particular case study."
      ],
      "metadata": {
        "id": "F9hrOjFDZXkr"
      }
    },
    {
      "cell_type": "markdown",
      "source": [
        "## Solution 6"
      ],
      "metadata": {
        "id": "-HyVOY_9re_l"
      }
    },
    {
      "cell_type": "markdown",
      "source": [
        "Performing ANOVA for salary based on education and occupation can have important business implications:\n",
        "\n",
        "1. Salary Structure Optimization: Identify fair pay based on education and job roles.\n",
        "\n",
        "2. Recruitment and Retention: Attract and retain talent with specific qualifications or roles.\n",
        "\n",
        "3. Performance Management: Motivate employees in areas with higher salary potential.\n",
        "\n",
        "4. Diversity and Inclusion: Address potential pay disparities and promote a diverse workforce.\n",
        "\n",
        "5. Training and Development: Focus on skill enhancement in high-paying areas.\n",
        "\n",
        "6. Compensation Benchmarking: Compare salary levels with industry standards.\n",
        "\n",
        "7. Resource Allocation: Allocate resources where higher salaries are justified.\n",
        "\n",
        "8. Fairness and Equity: Ensure fair compensation for all employees."
      ],
      "metadata": {
        "id": "z-z5qyWVrhCu"
      }
    },
    {
      "cell_type": "code",
      "source": [],
      "metadata": {
        "id": "taxBnjLNY7fF"
      },
      "execution_count": null,
      "outputs": []
    }
  ]
}
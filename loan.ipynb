{
  "nbformat": 4,
  "nbformat_minor": 0,
  "metadata": {
    "colab": {
      "provenance": [],
      "collapsed_sections": [
        "cj33v_gV5caF",
        "Oc0Px7uvk_sc",
        "fFtWlZoZkVWk",
        "MrJYfAkvljZj",
        "ByORKGF85ImP",
        "dSw7UKf65TsN",
        "UhKj_n9j484H",
        "8K-7gc0Z467c"
      ]
    },
    "kernelspec": {
      "name": "python3",
      "display_name": "Python 3"
    },
    "language_info": {
      "name": "python"
    }
  },
  "cells": [
    {
      "cell_type": "markdown",
      "source": [
        "# IMPORTING LIBRARIES"
      ],
      "metadata": {
        "id": "cj33v_gV5caF"
      }
    },
    {
      "cell_type": "code",
      "execution_count": null,
      "metadata": {
        "id": "5BaiYqHNQbDp"
      },
      "outputs": [],
      "source": [
        "import numpy as np\n",
        "import pandas as pd\n",
        "import matplotlib.pyplot as plt\n",
        "import seaborn as sns\n",
        "import re"
      ]
    },
    {
      "cell_type": "markdown",
      "source": [
        "# INITIAL ANALYSIS"
      ],
      "metadata": {
        "id": "Oc0Px7uvk_sc"
      }
    },
    {
      "cell_type": "code",
      "source": [
        "df=pd.read_excel('loan-data.xlsx')"
      ],
      "metadata": {
        "id": "k-bIfTvXQo1P"
      },
      "execution_count": null,
      "outputs": []
    },
    {
      "cell_type": "code",
      "source": [
        "df.drop([\"Unnamed: 0\", \"id\", \"member_id\"], axis=1, inplace=True)"
      ],
      "metadata": {
        "id": "sPrxE8jLRAa4"
      },
      "execution_count": null,
      "outputs": []
    },
    {
      "cell_type": "code",
      "source": [
        "df.head(4)"
      ],
      "metadata": {
        "colab": {
          "base_uri": "https://localhost:8080/",
          "height": 293
        },
        "id": "8xNIa7tzRYqO",
        "outputId": "e140d0e8-abbd-43b9-85ed-7aa3b8e2a9ea"
      },
      "execution_count": null,
      "outputs": [
        {
          "output_type": "execute_result",
          "data": {
            "text/plain": [
              "   loan_amnt  funded_amnt  funded_amnt_inv       term  int_rate  installment  \\\n",
              "0        0.0          0.0              0.0  36 months      0.00         0.00   \n",
              "1     2500.0       2500.0           2500.0  36 months     13.98        85.42   \n",
              "2     5000.0       5000.0           5000.0  36 months     15.95       175.67   \n",
              "3     7000.0       7000.0           7000.0  36 months      9.91       225.58   \n",
              "\n",
              "  emp_length home_ownership  annual_inc verification_status  ... total_acc  \\\n",
              "0   < 1 year           RENT         0.0        Not Verified  ...       1.0   \n",
              "1    4 years           RENT     20004.0        Not Verified  ...      10.0   \n",
              "2    4 years           RENT     59000.0        Not Verified  ...      15.0   \n",
              "3  10+ years       MORTGAGE     53796.0        Not Verified  ...      20.0   \n",
              "\n",
              "   total_pymnt total_pymnt_inv total_rec_prncp total_rec_int  last_pymnt_d  \\\n",
              "0     0.000000            0.00            0.00          0.00    2023-01-07   \n",
              "1  3075.291779         3075.29         2500.00        575.29    2023-07-13   \n",
              "2  2948.760000         2948.76         1909.02        873.81    2023-11-11   \n",
              "3  8082.391880         8082.39         7000.00       1082.39    2023-03-14   \n",
              "\n",
              "   last_pymnt_amnt next_pymnt_d  last_credit_pull_d  repay_fail  \n",
              "0             0.00   2023-01-07          2023-01-07           1  \n",
              "1            90.85   2023-08-13          2023-06-16           0  \n",
              "2           175.67          NaT          2023-03-12           1  \n",
              "3          1550.27          NaT          2023-03-14           0  \n",
              "\n",
              "[4 rows x 34 columns]"
            ],
            "text/html": [
              "\n",
              "  <div id=\"df-959f64d5-2fce-4c64-9aaa-701b44aeb0c0\" class=\"colab-df-container\">\n",
              "    <div>\n",
              "<style scoped>\n",
              "    .dataframe tbody tr th:only-of-type {\n",
              "        vertical-align: middle;\n",
              "    }\n",
              "\n",
              "    .dataframe tbody tr th {\n",
              "        vertical-align: top;\n",
              "    }\n",
              "\n",
              "    .dataframe thead th {\n",
              "        text-align: right;\n",
              "    }\n",
              "</style>\n",
              "<table border=\"1\" class=\"dataframe\">\n",
              "  <thead>\n",
              "    <tr style=\"text-align: right;\">\n",
              "      <th></th>\n",
              "      <th>loan_amnt</th>\n",
              "      <th>funded_amnt</th>\n",
              "      <th>funded_amnt_inv</th>\n",
              "      <th>term</th>\n",
              "      <th>int_rate</th>\n",
              "      <th>installment</th>\n",
              "      <th>emp_length</th>\n",
              "      <th>home_ownership</th>\n",
              "      <th>annual_inc</th>\n",
              "      <th>verification_status</th>\n",
              "      <th>...</th>\n",
              "      <th>total_acc</th>\n",
              "      <th>total_pymnt</th>\n",
              "      <th>total_pymnt_inv</th>\n",
              "      <th>total_rec_prncp</th>\n",
              "      <th>total_rec_int</th>\n",
              "      <th>last_pymnt_d</th>\n",
              "      <th>last_pymnt_amnt</th>\n",
              "      <th>next_pymnt_d</th>\n",
              "      <th>last_credit_pull_d</th>\n",
              "      <th>repay_fail</th>\n",
              "    </tr>\n",
              "  </thead>\n",
              "  <tbody>\n",
              "    <tr>\n",
              "      <th>0</th>\n",
              "      <td>0.0</td>\n",
              "      <td>0.0</td>\n",
              "      <td>0.0</td>\n",
              "      <td>36 months</td>\n",
              "      <td>0.00</td>\n",
              "      <td>0.00</td>\n",
              "      <td>&lt; 1 year</td>\n",
              "      <td>RENT</td>\n",
              "      <td>0.0</td>\n",
              "      <td>Not Verified</td>\n",
              "      <td>...</td>\n",
              "      <td>1.0</td>\n",
              "      <td>0.000000</td>\n",
              "      <td>0.00</td>\n",
              "      <td>0.00</td>\n",
              "      <td>0.00</td>\n",
              "      <td>2023-01-07</td>\n",
              "      <td>0.00</td>\n",
              "      <td>2023-01-07</td>\n",
              "      <td>2023-01-07</td>\n",
              "      <td>1</td>\n",
              "    </tr>\n",
              "    <tr>\n",
              "      <th>1</th>\n",
              "      <td>2500.0</td>\n",
              "      <td>2500.0</td>\n",
              "      <td>2500.0</td>\n",
              "      <td>36 months</td>\n",
              "      <td>13.98</td>\n",
              "      <td>85.42</td>\n",
              "      <td>4 years</td>\n",
              "      <td>RENT</td>\n",
              "      <td>20004.0</td>\n",
              "      <td>Not Verified</td>\n",
              "      <td>...</td>\n",
              "      <td>10.0</td>\n",
              "      <td>3075.291779</td>\n",
              "      <td>3075.29</td>\n",
              "      <td>2500.00</td>\n",
              "      <td>575.29</td>\n",
              "      <td>2023-07-13</td>\n",
              "      <td>90.85</td>\n",
              "      <td>2023-08-13</td>\n",
              "      <td>2023-06-16</td>\n",
              "      <td>0</td>\n",
              "    </tr>\n",
              "    <tr>\n",
              "      <th>2</th>\n",
              "      <td>5000.0</td>\n",
              "      <td>5000.0</td>\n",
              "      <td>5000.0</td>\n",
              "      <td>36 months</td>\n",
              "      <td>15.95</td>\n",
              "      <td>175.67</td>\n",
              "      <td>4 years</td>\n",
              "      <td>RENT</td>\n",
              "      <td>59000.0</td>\n",
              "      <td>Not Verified</td>\n",
              "      <td>...</td>\n",
              "      <td>15.0</td>\n",
              "      <td>2948.760000</td>\n",
              "      <td>2948.76</td>\n",
              "      <td>1909.02</td>\n",
              "      <td>873.81</td>\n",
              "      <td>2023-11-11</td>\n",
              "      <td>175.67</td>\n",
              "      <td>NaT</td>\n",
              "      <td>2023-03-12</td>\n",
              "      <td>1</td>\n",
              "    </tr>\n",
              "    <tr>\n",
              "      <th>3</th>\n",
              "      <td>7000.0</td>\n",
              "      <td>7000.0</td>\n",
              "      <td>7000.0</td>\n",
              "      <td>36 months</td>\n",
              "      <td>9.91</td>\n",
              "      <td>225.58</td>\n",
              "      <td>10+ years</td>\n",
              "      <td>MORTGAGE</td>\n",
              "      <td>53796.0</td>\n",
              "      <td>Not Verified</td>\n",
              "      <td>...</td>\n",
              "      <td>20.0</td>\n",
              "      <td>8082.391880</td>\n",
              "      <td>8082.39</td>\n",
              "      <td>7000.00</td>\n",
              "      <td>1082.39</td>\n",
              "      <td>2023-03-14</td>\n",
              "      <td>1550.27</td>\n",
              "      <td>NaT</td>\n",
              "      <td>2023-03-14</td>\n",
              "      <td>0</td>\n",
              "    </tr>\n",
              "  </tbody>\n",
              "</table>\n",
              "<p>4 rows × 34 columns</p>\n",
              "</div>\n",
              "    <div class=\"colab-df-buttons\">\n",
              "\n",
              "  <div class=\"colab-df-container\">\n",
              "    <button class=\"colab-df-convert\" onclick=\"convertToInteractive('df-959f64d5-2fce-4c64-9aaa-701b44aeb0c0')\"\n",
              "            title=\"Convert this dataframe to an interactive table.\"\n",
              "            style=\"display:none;\">\n",
              "\n",
              "  <svg xmlns=\"http://www.w3.org/2000/svg\" height=\"24px\" viewBox=\"0 -960 960 960\">\n",
              "    <path d=\"M120-120v-720h720v720H120Zm60-500h600v-160H180v160Zm220 220h160v-160H400v160Zm0 220h160v-160H400v160ZM180-400h160v-160H180v160Zm440 0h160v-160H620v160ZM180-180h160v-160H180v160Zm440 0h160v-160H620v160Z\"/>\n",
              "  </svg>\n",
              "    </button>\n",
              "\n",
              "  <style>\n",
              "    .colab-df-container {\n",
              "      display:flex;\n",
              "      gap: 12px;\n",
              "    }\n",
              "\n",
              "    .colab-df-convert {\n",
              "      background-color: #E8F0FE;\n",
              "      border: none;\n",
              "      border-radius: 50%;\n",
              "      cursor: pointer;\n",
              "      display: none;\n",
              "      fill: #1967D2;\n",
              "      height: 32px;\n",
              "      padding: 0 0 0 0;\n",
              "      width: 32px;\n",
              "    }\n",
              "\n",
              "    .colab-df-convert:hover {\n",
              "      background-color: #E2EBFA;\n",
              "      box-shadow: 0px 1px 2px rgba(60, 64, 67, 0.3), 0px 1px 3px 1px rgba(60, 64, 67, 0.15);\n",
              "      fill: #174EA6;\n",
              "    }\n",
              "\n",
              "    .colab-df-buttons div {\n",
              "      margin-bottom: 4px;\n",
              "    }\n",
              "\n",
              "    [theme=dark] .colab-df-convert {\n",
              "      background-color: #3B4455;\n",
              "      fill: #D2E3FC;\n",
              "    }\n",
              "\n",
              "    [theme=dark] .colab-df-convert:hover {\n",
              "      background-color: #434B5C;\n",
              "      box-shadow: 0px 1px 3px 1px rgba(0, 0, 0, 0.15);\n",
              "      filter: drop-shadow(0px 1px 2px rgba(0, 0, 0, 0.3));\n",
              "      fill: #FFFFFF;\n",
              "    }\n",
              "  </style>\n",
              "\n",
              "    <script>\n",
              "      const buttonEl =\n",
              "        document.querySelector('#df-959f64d5-2fce-4c64-9aaa-701b44aeb0c0 button.colab-df-convert');\n",
              "      buttonEl.style.display =\n",
              "        google.colab.kernel.accessAllowed ? 'block' : 'none';\n",
              "\n",
              "      async function convertToInteractive(key) {\n",
              "        const element = document.querySelector('#df-959f64d5-2fce-4c64-9aaa-701b44aeb0c0');\n",
              "        const dataTable =\n",
              "          await google.colab.kernel.invokeFunction('convertToInteractive',\n",
              "                                                    [key], {});\n",
              "        if (!dataTable) return;\n",
              "\n",
              "        const docLinkHtml = 'Like what you see? Visit the ' +\n",
              "          '<a target=\"_blank\" href=https://colab.research.google.com/notebooks/data_table.ipynb>data table notebook</a>'\n",
              "          + ' to learn more about interactive tables.';\n",
              "        element.innerHTML = '';\n",
              "        dataTable['output_type'] = 'display_data';\n",
              "        await google.colab.output.renderOutput(dataTable, element);\n",
              "        const docLink = document.createElement('div');\n",
              "        docLink.innerHTML = docLinkHtml;\n",
              "        element.appendChild(docLink);\n",
              "      }\n",
              "    </script>\n",
              "  </div>\n",
              "\n",
              "    </div>\n",
              "  </div>\n"
            ]
          },
          "metadata": {},
          "execution_count": 114
        }
      ]
    },
    {
      "cell_type": "markdown",
      "source": [
        "# FILLING OR DROPPING NULL VALUES"
      ],
      "metadata": {
        "id": "fFtWlZoZkVWk"
      }
    },
    {
      "cell_type": "code",
      "source": [
        "df.isnull().sum()"
      ],
      "metadata": {
        "colab": {
          "base_uri": "https://localhost:8080/"
        },
        "id": "KABYxKHkkPkK",
        "outputId": "cd51ae83-b9f7-45fd-9cb2-7e00ec071bd2"
      },
      "execution_count": null,
      "outputs": [
        {
          "output_type": "execute_result",
          "data": {
            "text/plain": [
              "loan_amnt                     1\n",
              "funded_amnt                   1\n",
              "funded_amnt_inv               1\n",
              "term                          0\n",
              "int_rate                      0\n",
              "installment                   1\n",
              "emp_length                  993\n",
              "home_ownership                0\n",
              "annual_inc                    2\n",
              "verification_status           0\n",
              "issue_d                       0\n",
              "loan_status                   0\n",
              "purpose                       0\n",
              "zip_code                      0\n",
              "addr_state                    0\n",
              "dti                           0\n",
              "delinq_2yrs                   1\n",
              "earliest_cr_line              0\n",
              "inq_last_6mths                1\n",
              "mths_since_last_delinq    24363\n",
              "open_acc                      1\n",
              "pub_rec                       1\n",
              "revol_bal                     4\n",
              "revol_util                   59\n",
              "total_acc                     1\n",
              "total_pymnt                   1\n",
              "total_pymnt_inv               1\n",
              "total_rec_prncp               1\n",
              "total_rec_int                 1\n",
              "last_pymnt_d                 71\n",
              "last_pymnt_amnt               1\n",
              "next_pymnt_d              35097\n",
              "last_credit_pull_d            3\n",
              "repay_fail                    0\n",
              "dtype: int64"
            ]
          },
          "metadata": {},
          "execution_count": 116
        }
      ]
    },
    {
      "cell_type": "code",
      "source": [
        "# Let's drop the 'next_pymnt_d' column and the 'mths_since_last_delinq' column as they contain alot of NaN values\n",
        "df.drop([\"next_pymnt_d\", \"mths_since_last_delinq\"], axis=1, inplace=True)"
      ],
      "metadata": {
        "id": "mjUhBIV-kPe-"
      },
      "execution_count": null,
      "outputs": []
    },
    {
      "cell_type": "markdown",
      "source": [
        "The code below loops through the columns in the DataFrame. It checks the dtype of each column.\n",
        "\n",
        "Columns with datetime data are dropped.\n",
        "\n",
        "Object columns are filled with the most frequent value.\n",
        "\n",
        "Numeric columns are filled with the mean value."
      ],
      "metadata": {
        "id": "-NmxouRJwuBb"
      }
    },
    {
      "cell_type": "code",
      "source": [
        "# Fill missing values\n",
        "for col in df.columns:\n",
        "    if df[col].dtype == 'datetime64[ns]':\n",
        "        df.drop(columns=[col], inplace=True)\n",
        "    elif df[col].dtype == 'object':\n",
        "        df[col].fillna(df[col].value_counts().index[0], inplace=True)\n",
        "    elif df[col].dtype in ['float64', 'int64']:\n",
        "        df[col].fillna(df[col].mean(), inplace=True)"
      ],
      "metadata": {
        "id": "QvxwuNaxkPV1"
      },
      "execution_count": null,
      "outputs": []
    },
    {
      "cell_type": "code",
      "source": [
        "df.isnull().sum()"
      ],
      "metadata": {
        "colab": {
          "base_uri": "https://localhost:8080/"
        },
        "id": "jLROMTdAwou7",
        "outputId": "793bd78e-a463-4d22-a90f-5206733831ce"
      },
      "execution_count": null,
      "outputs": [
        {
          "output_type": "execute_result",
          "data": {
            "text/plain": [
              "loan_amnt              0\n",
              "funded_amnt            0\n",
              "funded_amnt_inv        0\n",
              "term                   0\n",
              "int_rate               0\n",
              "installment            0\n",
              "emp_length             0\n",
              "home_ownership         0\n",
              "annual_inc             0\n",
              "verification_status    0\n",
              "loan_status            0\n",
              "purpose                0\n",
              "zip_code               0\n",
              "addr_state             0\n",
              "dti                    0\n",
              "delinq_2yrs            0\n",
              "inq_last_6mths         0\n",
              "open_acc               0\n",
              "pub_rec                0\n",
              "revol_bal              0\n",
              "revol_util             0\n",
              "total_acc              0\n",
              "total_pymnt            0\n",
              "total_pymnt_inv        0\n",
              "total_rec_prncp        0\n",
              "total_rec_int          0\n",
              "last_pymnt_amnt        0\n",
              "repay_fail             0\n",
              "dtype: int64"
            ]
          },
          "metadata": {},
          "execution_count": 119
        }
      ]
    },
    {
      "cell_type": "markdown",
      "source": [
        "# ENCODING CATEGORICAL VARIABLES"
      ],
      "metadata": {
        "id": "MrJYfAkvljZj"
      }
    },
    {
      "cell_type": "code",
      "source": [
        "emp_length_mapping = {\n",
        "    '< 1 year': 0,\n",
        "    '1 year': 1,\n",
        "    '2 years': 2,\n",
        "    '3 years': 3,\n",
        "    '4 years': 4,\n",
        "    '5 years': 5,\n",
        "    '6 years': 6,\n",
        "    '7 years': 7,\n",
        "    '8 years': 8,\n",
        "    '9 years': 9,\n",
        "    '10+ years': 10\n",
        "}\n",
        "\n",
        "# Use the mapping to replace the strings with integers\n",
        "df['emp_length'] = df['emp_length'].replace(emp_length_mapping)\n",
        "\n",
        "verification_status_mapping = {\n",
        "    'Not Verified': 0,\n",
        "    'Verified': 1,\n",
        "    'Source Verified': 1\n",
        "}\n",
        "\n",
        "df['verification_status'] = df['verification_status'].replace(verification_status_mapping)"
      ],
      "metadata": {
        "id": "BgbvoktXweGc"
      },
      "execution_count": null,
      "outputs": []
    },
    {
      "cell_type": "code",
      "source": [
        "df.info()"
      ],
      "metadata": {
        "colab": {
          "base_uri": "https://localhost:8080/"
        },
        "id": "PS7cpJdI18DJ",
        "outputId": "5c6cfc00-7714-4000-9a8a-181d920d2ef6"
      },
      "execution_count": null,
      "outputs": [
        {
          "output_type": "stream",
          "name": "stdout",
          "text": [
            "<class 'pandas.core.frame.DataFrame'>\n",
            "RangeIndex: 38480 entries, 0 to 38479\n",
            "Data columns (total 28 columns):\n",
            " #   Column               Non-Null Count  Dtype  \n",
            "---  ------               --------------  -----  \n",
            " 0   loan_amnt            38480 non-null  float64\n",
            " 1   funded_amnt          38480 non-null  float64\n",
            " 2   funded_amnt_inv      38480 non-null  float64\n",
            " 3   term                 38480 non-null  object \n",
            " 4   int_rate             38480 non-null  float64\n",
            " 5   installment          38480 non-null  float64\n",
            " 6   emp_length           38480 non-null  int64  \n",
            " 7   home_ownership       38480 non-null  object \n",
            " 8   annual_inc           38480 non-null  float64\n",
            " 9   verification_status  38480 non-null  int64  \n",
            " 10  loan_status          38480 non-null  object \n",
            " 11  purpose              38480 non-null  object \n",
            " 12  zip_code             38480 non-null  object \n",
            " 13  addr_state           38480 non-null  object \n",
            " 14  dti                  38480 non-null  float64\n",
            " 15  delinq_2yrs          38480 non-null  float64\n",
            " 16  inq_last_6mths       38480 non-null  float64\n",
            " 17  open_acc             38480 non-null  float64\n",
            " 18  pub_rec              38480 non-null  float64\n",
            " 19  revol_bal            38480 non-null  float64\n",
            " 20  revol_util           38480 non-null  object \n",
            " 21  total_acc            38480 non-null  float64\n",
            " 22  total_pymnt          38480 non-null  float64\n",
            " 23  total_pymnt_inv      38480 non-null  float64\n",
            " 24  total_rec_prncp      38480 non-null  float64\n",
            " 25  total_rec_int        38480 non-null  float64\n",
            " 26  last_pymnt_amnt      38480 non-null  float64\n",
            " 27  repay_fail           38480 non-null  int64  \n",
            "dtypes: float64(18), int64(3), object(7)\n",
            "memory usage: 8.2+ MB\n"
          ]
        }
      ]
    },
    {
      "cell_type": "markdown",
      "source": [
        "Let's encode all categorical features using OrdinalEncoder"
      ],
      "metadata": {
        "id": "jn6gHTgr24QS"
      }
    },
    {
      "cell_type": "code",
      "source": [
        "from sklearn.preprocessing import OrdinalEncoder\n",
        "\n",
        "categorical_cols = ['term', 'home_ownership', 'loan_status', 'purpose', 'zip_code', 'addr_state', 'revol_util']\n",
        "for col in categorical_cols:\n",
        "  df[col] = df[col].astype(str)\n",
        "\n",
        "ordinal_encoder = OrdinalEncoder()\n",
        "df[categorical_cols] = ordinal_encoder.fit_transform(df[categorical_cols])"
      ],
      "metadata": {
        "id": "3tdJrIxF13r4"
      },
      "execution_count": null,
      "outputs": []
    },
    {
      "cell_type": "code",
      "source": [
        "df.info()"
      ],
      "metadata": {
        "colab": {
          "base_uri": "https://localhost:8080/"
        },
        "id": "jQCbMPlR1QmZ",
        "outputId": "3798ddd1-a88d-4ce6-a272-b5290a5d3782"
      },
      "execution_count": null,
      "outputs": [
        {
          "output_type": "stream",
          "name": "stdout",
          "text": [
            "<class 'pandas.core.frame.DataFrame'>\n",
            "RangeIndex: 38480 entries, 0 to 38479\n",
            "Data columns (total 30 columns):\n",
            " #   Column               Non-Null Count  Dtype  \n",
            "---  ------               --------------  -----  \n",
            " 0   id                   38480 non-null  int64  \n",
            " 1   member_id            38480 non-null  int64  \n",
            " 2   loan_amnt            38480 non-null  float64\n",
            " 3   funded_amnt          38480 non-null  float64\n",
            " 4   funded_amnt_inv      38480 non-null  float64\n",
            " 5   term                 38480 non-null  float64\n",
            " 6   int_rate             38480 non-null  float64\n",
            " 7   installment          38480 non-null  float64\n",
            " 8   emp_length           38480 non-null  int64  \n",
            " 9   home_ownership       38480 non-null  float64\n",
            " 10  annual_inc           38480 non-null  float64\n",
            " 11  verification_status  38480 non-null  int64  \n",
            " 12  loan_status          38480 non-null  float64\n",
            " 13  purpose              38480 non-null  float64\n",
            " 14  zip_code             38480 non-null  float64\n",
            " 15  addr_state           38480 non-null  float64\n",
            " 16  dti                  38480 non-null  float64\n",
            " 17  delinq_2yrs          38480 non-null  float64\n",
            " 18  inq_last_6mths       38480 non-null  float64\n",
            " 19  open_acc             38480 non-null  float64\n",
            " 20  pub_rec              38480 non-null  float64\n",
            " 21  revol_bal            38480 non-null  float64\n",
            " 22  revol_util           38480 non-null  float64\n",
            " 23  total_acc            38480 non-null  float64\n",
            " 24  total_pymnt          38480 non-null  float64\n",
            " 25  total_pymnt_inv      38480 non-null  float64\n",
            " 26  total_rec_prncp      38480 non-null  float64\n",
            " 27  total_rec_int        38480 non-null  float64\n",
            " 28  last_pymnt_amnt      38480 non-null  float64\n",
            " 29  repay_fail           38480 non-null  int64  \n",
            "dtypes: float64(25), int64(5)\n",
            "memory usage: 8.8 MB\n"
          ]
        }
      ]
    },
    {
      "cell_type": "markdown",
      "source": [
        "# TRAIN TEST SPLIT"
      ],
      "metadata": {
        "id": "9PgNpAgU1CqP"
      }
    },
    {
      "cell_type": "code",
      "source": [
        "X = df.drop(['repay_fail'], axis=1)\n",
        "y= df['repay_fail']\n",
        "\n",
        "from sklearn.model_selection import train_test_split\n",
        "X_train, X_test, y_train, y_test = train_test_split(X, y, test_size=0.3, random_state=42)"
      ],
      "metadata": {
        "id": "mOTuF7YO1D3o"
      },
      "execution_count": null,
      "outputs": []
    },
    {
      "cell_type": "markdown",
      "source": [
        "# MODEL TRAINING AND PREDICTIONS"
      ],
      "metadata": {
        "id": "NBK0cFEG0_1m"
      }
    },
    {
      "cell_type": "markdown",
      "source": [
        "## UTILITY FUNCTIONS"
      ],
      "metadata": {
        "id": "ByORKGF85ImP"
      }
    },
    {
      "cell_type": "code",
      "source": [
        "from sklearn.metrics import confusion_matrix, classification_report, precision_recall_fscore_support\n",
        "import matplotlib.pyplot as plt\n",
        "import seaborn as sns\n",
        "\n",
        "# Confusion Matrix\n",
        "def plot_confusion_matrix(y_true, y_pred, title):\n",
        "    cm = confusion_matrix(y_true, y_pred)\n",
        "    plt.figure(figsize=(8, 6))\n",
        "    sns.heatmap(cm, annot=True, fmt=\"d\", cmap=\"Blues\")\n",
        "    plt.title(title)\n",
        "    plt.xlabel(\"Predicted\")\n",
        "    plt.ylabel(\"Actual\")\n",
        "    plt.show()\n",
        "\n",
        "\n",
        "# Precision, Recall, F1-score\n",
        "def print_metrics(y_true, y_pred, model_name):\n",
        "    precision, recall, f1, _ = precision_recall_fscore_support(y_true, y_pred, average=\"binary\")\n",
        "    print(f\"{model_name} Metrics:\")\n",
        "    print(f\"Precision: {precision:.2f}\")\n",
        "    print(f\"Recall: {recall:.2f}\")\n",
        "    print(f\"F1-Score: {f1:.2f}\\n\")\n",
        "\n",
        "# Classification Report\n",
        "def print_classification_report(y_true, y_pred, model_name):\n",
        "    report = classification_report(y_true, y_pred, target_names=[\"Class 0\", \"Class 1\"])\n",
        "    print(f\"{model_name} Classification Report:\")\n",
        "    print(report)"
      ],
      "metadata": {
        "id": "FwFYq4pR5EP-"
      },
      "execution_count": null,
      "outputs": []
    },
    {
      "cell_type": "markdown",
      "source": [
        "## LOGISTIC REGRESSION MODEL"
      ],
      "metadata": {
        "id": "dSw7UKf65TsN"
      }
    },
    {
      "cell_type": "code",
      "source": [
        "from sklearn.linear_model import LogisticRegression\n",
        "\n",
        "\n",
        "# Logistic Regression\n",
        "logreg_model = LogisticRegression(max_iter=10000)\n",
        "logreg_model.fit(X_train, y_train)\n",
        "logreg_pred = logreg_model.predict(X_test)\n",
        "\n",
        "plot_confusion_matrix(y_test, logreg_pred, \"Logistic Regression Confusion Matrix\")\n",
        "print_metrics(y_test, logreg_pred, \"Logistic Regression\")\n",
        "print_classification_report(y_test, logreg_pred, \"Logistic Regression\")\n"
      ],
      "metadata": {
        "colab": {
          "base_uri": "https://localhost:8080/",
          "height": 988
        },
        "id": "EPd6BP8tzopN",
        "outputId": "655d23fc-a9d1-47c5-9998-9445f5271b0d"
      },
      "execution_count": null,
      "outputs": [
        {
          "output_type": "stream",
          "name": "stderr",
          "text": [
            "/usr/local/lib/python3.10/dist-packages/sklearn/linear_model/_logistic.py:458: ConvergenceWarning: lbfgs failed to converge (status=1):\n",
            "STOP: TOTAL NO. of ITERATIONS REACHED LIMIT.\n",
            "\n",
            "Increase the number of iterations (max_iter) or scale the data as shown in:\n",
            "    https://scikit-learn.org/stable/modules/preprocessing.html\n",
            "Please also refer to the documentation for alternative solver options:\n",
            "    https://scikit-learn.org/stable/modules/linear_model.html#logistic-regression\n",
            "  n_iter_i = _check_optimize_result(\n"
          ]
        },
        {
          "output_type": "display_data",
          "data": {
            "text/plain": [
              "<Figure size 800x600 with 2 Axes>"
            ],
            "image/png": "[encoded data removed]"
          },
          "metadata": {}
        },
        {
          "output_type": "stream",
          "name": "stdout",
          "text": [
            "Logistic Regression Metrics:\n",
            "Precision: 1.00\n",
            "Recall: 0.99\n",
            "F1-Score: 0.99\n",
            "\n",
            "Logistic Regression Classification Report:\n",
            "              precision    recall  f1-score   support\n",
            "\n",
            "     Class 0       1.00      1.00      1.00      9776\n",
            "     Class 1       1.00      0.99      0.99      1768\n",
            "\n",
            "    accuracy                           1.00     11544\n",
            "   macro avg       1.00      0.99      1.00     11544\n",
            "weighted avg       1.00      1.00      1.00     11544\n",
            "\n"
          ]
        }
      ]
    },
    {
      "cell_type": "markdown",
      "source": [
        "## RANDOM FOREST MODEL"
      ],
      "metadata": {
        "id": "UhKj_n9j484H"
      }
    },
    {
      "cell_type": "code",
      "source": [
        "from sklearn.ensemble import RandomForestClassifier\n",
        "import matplotlib.pyplot as plt\n",
        "import seaborn as sns\n",
        "\n",
        "# Random Forest\n",
        "rf_model = RandomForestClassifier(random_state=42)\n",
        "rf_model.fit(X_train, y_train)\n",
        "rf_pred = rf_model.predict(X_test)\n",
        "\n",
        "plot_confusion_matrix(y_test, rf_pred, \"Random Forest Confusion Matrix\")\n",
        "print_metrics(y_test, rf_pred, \"Random Forest\")\n",
        "print_classification_report(y_test, rf_pred, \"Random Forest\")\n"
      ],
      "metadata": {
        "colab": {
          "base_uri": "https://localhost:8080/",
          "height": 841
        },
        "id": "jDbpIBHx4z3w",
        "outputId": "a6ea7550-5685-4ce6-c46a-9218f72bd2b7"
      },
      "execution_count": null,
      "outputs": [
        {
          "output_type": "display_data",
          "data": {
            "text/plain": [
              "<Figure size 800x600 with 2 Axes>"
            ],
            "image/png": "[encoded data removed]"
          },
          "metadata": {}
        },
        {
          "output_type": "stream",
          "name": "stdout",
          "text": [
            "Random Forest Metrics:\n",
            "Precision: 1.00\n",
            "Recall: 1.00\n",
            "F1-Score: 1.00\n",
            "\n",
            "Random Forest Classification Report:\n",
            "              precision    recall  f1-score   support\n",
            "\n",
            "     Class 0       1.00      1.00      1.00      9776\n",
            "     Class 1       1.00      1.00      1.00      1768\n",
            "\n",
            "    accuracy                           1.00     11544\n",
            "   macro avg       1.00      1.00      1.00     11544\n",
            "weighted avg       1.00      1.00      1.00     11544\n",
            "\n"
          ]
        }
      ]
    },
    {
      "cell_type": "markdown",
      "source": [
        "## ADABOOST MODEL"
      ],
      "metadata": {
        "id": "8K-7gc0Z467c"
      }
    },
    {
      "cell_type": "code",
      "source": [
        "from sklearn.ensemble import AdaBoostClassifier\n",
        "import matplotlib.pyplot as plt\n",
        "import seaborn as sns\n",
        "\n",
        "# AdaBoost\n",
        "adaboost_model = AdaBoostClassifier(random_state=42)\n",
        "adaboost_model.fit(X_train, y_train)\n",
        "adaboost_pred = adaboost_model.predict(X_test)\n",
        "\n",
        "plot_confusion_matrix(y_test, adaboost_pred, \"AdaBoost Confusion Matrix\")\n",
        "print_metrics(y_test, adaboost_pred, \"AdaBoost\")\n",
        "print_classification_report(y_test, adaboost_pred, \"AdaBoost\")\n"
      ],
      "metadata": {
        "colab": {
          "base_uri": "https://localhost:8080/",
          "height": 841
        },
        "id": "QjYH63Hy4zy6",
        "outputId": "432efacb-d30b-493e-edff-1dce2c1f716b"
      },
      "execution_count": null,
      "outputs": [
        {
          "output_type": "display_data",
          "data": {
            "text/plain": [
              "<Figure size 800x600 with 2 Axes>"
            ],
            "image/png": "[encoded data removed]"
          },
          "metadata": {}
        },
        {
          "output_type": "stream",
          "name": "stdout",
          "text": [
            "AdaBoost Metrics:\n",
            "Precision: 1.00\n",
            "Recall: 1.00\n",
            "F1-Score: 1.00\n",
            "\n",
            "AdaBoost Classification Report:\n",
            "              precision    recall  f1-score   support\n",
            "\n",
            "     Class 0       1.00      1.00      1.00      9776\n",
            "     Class 1       1.00      1.00      1.00      1768\n",
            "\n",
            "    accuracy                           1.00     11544\n",
            "   macro avg       1.00      1.00      1.00     11544\n",
            "weighted avg       1.00      1.00      1.00     11544\n",
            "\n"
          ]
        }
      ]
    },
    {
      "cell_type": "code",
      "source": [],
      "metadata": {
        "id": "h6_tLjAk4zvF"
      },
      "execution_count": null,
      "outputs": []
    },
    {
      "cell_type": "code",
      "source": [
        "# import pandas as pd\n",
        "# from scipy.stats import pointbiserialr, pearsonr\n",
        "\n",
        "# target = 'repay_fail'\n",
        "# threshold = 0.1\n",
        "\n",
        "# dropped = []\n",
        "# for col in df.columns:\n",
        "#     if col != target:\n",
        "#         if df[col].dtype == 'object':\n",
        "#             corr = pointbiserialr(df[target], df[col].astype('category').cat.codes)[0]\n",
        "#         else:\n",
        "#             corr = pearsonr(df[target], df[col])[0]\n",
        "\n",
        "#         if abs(corr) < threshold:\n",
        "#             df.drop(col, axis=1, inplace=True)\n",
        "#             dropped.append((col, corr))\n",
        "\n",
        "# print(\"Dropped features below threshold {}:\".format(threshold))\n",
        "# for name, corr in dropped:\n",
        "#     print(name, corr)\n",
        "\n"
      ],
      "metadata": {
        "colab": {
          "base_uri": "https://localhost:8080/"
        },
        "id": "quEtHUGVlCbP",
        "outputId": "a0846dd4-6f8a-4d4b-d179-4130e2aa37a3"
      },
      "execution_count": null,
      "outputs": [
        {
          "output_type": "stream",
          "name": "stdout",
          "text": [
            "Dropped features below threshold 0.1:\n",
            "id -0.008376661866877995\n",
            "member_id -0.011848967021757296\n",
            "loan_amnt 0.0422514398287386\n",
            "funded_amnt 0.03930587851076375\n",
            "funded_amnt_inv 0.009549356798575796\n",
            "installment 0.020603877917057766\n",
            "emp_length -0.010399171211198582\n",
            "home_ownership 0.020970227467917102\n",
            "annual_inc -0.03795636576364568\n",
            "verification_status 0.030799376100171763\n",
            "purpose 0.046162917160771214\n",
            "zip_code 0.02000571373175935\n",
            "addr_state -0.022025117465137425\n",
            "dti 0.042095679877004355\n",
            "delinq_2yrs 0.02048109544721414\n",
            "open_acc -0.006319637398778485\n",
            "pub_rec 0.05088787969293539\n",
            "revol_bal 0.018896514531178635\n",
            "revol_util 0.09272087623536229\n",
            "total_acc -0.020694724155175433\n",
            "total_rec_int -0.017393465146317882\n"
          ]
        }
      ]
    },
    {
      "cell_type": "code",
      "source": [],
      "metadata": {
        "id": "WLf0VGplZw13"
      },
      "execution_count": null,
      "outputs": []
    }
  ]
}